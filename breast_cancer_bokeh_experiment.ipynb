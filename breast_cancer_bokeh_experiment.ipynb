{
 "cells": [
  {
   "cell_type": "code",
   "execution_count": 1,
   "metadata": {
    "collapsed": true
   },
   "outputs": [],
   "source": [
    "#First import all the libraries needed\n",
    "\n",
    "import numpy as np #for linear algebra\n",
    "import pandas as pd #for chopping, processing\n",
    "import csv #for opening csv files\n",
    "%matplotlib inline \n",
    "import matplotlib.pyplot as plt #for plotting the graphs\n",
    "from sklearn.linear_model import LogisticRegression #for logistic regression\n",
    "from sklearn.pipeline import Pipeline #to assemble steps for cross validation\n",
    "from sklearn.preprocessing import PolynomialFeatures #for all the polynomial features\n",
    "from sklearn import svm #for Support Vector Machines\n",
    "from sklearn.neighbors import NearestNeighbors #for nearest neighbor classifier\n",
    "from sklearn import tree\n",
    "from sklearn.tree import DecisionTreeClassifier #for decision tree classifier\n",
    "from sklearn.naive_bayes import GaussianNB  #for naive bayes classifier\n",
    "from scipy import stats #for statistical info"
   ]
  },
  {
   "cell_type": "code",
   "execution_count": 2,
   "metadata": {
    "collapsed": false
   },
   "outputs": [
    {
     "name": "stderr",
     "output_type": "stream",
     "text": [
      "//anaconda/lib/python2.7/site-packages/sklearn/cross_validation.py:44: DeprecationWarning: This module was deprecated in version 0.18 in favor of the model_selection module into which all the refactored classes and functions are moved. Also note that the interface of the new CV iterators are different from that of this module. This module will be removed in 0.20.\n",
      "  \"This module will be removed in 0.20.\", DeprecationWarning)\n",
      "//anaconda/lib/python2.7/site-packages/sklearn/grid_search.py:43: DeprecationWarning: This module was deprecated in version 0.18 in favor of the model_selection module into which all the refactored classes and functions are moved. This module will be removed in 0.20.\n",
      "  DeprecationWarning)\n"
     ]
    }
   ],
   "source": [
    "from sklearn.model_selection import train_test_split # to split the data in train and test\n",
    "from sklearn.model_selection import KFold # for cross validation\n",
    "from sklearn.grid_search import GridSearchCV  # for tuning parameters\n",
    "from sklearn.neighbors import KNeighborsClassifier  #for k-neighbor classifier\n",
    "from sklearn import metrics  # for checking the accuracy \n",
    "from time import time"
   ]
  },
  {
   "cell_type": "code",
   "execution_count": 3,
   "metadata": {
    "collapsed": true
   },
   "outputs": [],
   "source": [
    "#load data\n",
    "data = pd.read_csv(\"data.csv\")\n"
   ]
  },
  {
   "cell_type": "code",
   "execution_count": 4,
   "metadata": {
    "collapsed": false
   },
   "outputs": [
    {
     "name": "stdout",
     "output_type": "stream",
     "text": [
      "There are 569 cases in this dataset\n",
      "There are 31 features in this dataset\n",
      "There are 212 cases diagnosed as malignant tumor\n",
      "There are 357 cases diagnosed as benign tumor\n",
      "The percentage of malignant cases is: 37.2583%\n"
     ]
    }
   ],
   "source": [
    "#Description of the dataset\n",
    "\n",
    "#how many cases are included in the dataset\n",
    "length = len(data)\n",
    "#how many features are in the dataset\n",
    "features = data.shape[1]-1\n",
    "\n",
    "# Number of malignant cases\n",
    "malignant = len(data[data['diagnosis']=='M'])\n",
    "\n",
    "#Number of benign cases\n",
    "benign = len(data[data['diagnosis']=='B'])\n",
    "\n",
    "#Rate of malignant tumors over all cases\n",
    "rate = (float(malignant)/(length))*100\n",
    "\n",
    "print \"There are \"+ str(len(data))+\" cases in this dataset\"\n",
    "print \"There are {}\".format(features)+\" features in this dataset\"\n",
    "print \"There are {}\".format(malignant)+\" cases diagnosed as malignant tumor\"\n",
    "print \"There are {}\".format(benign)+\" cases diagnosed as benign tumor\"\n",
    "print \"The percentage of malignant cases is: {:.4f}%\".format(rate)"
   ]
  },
  {
   "cell_type": "code",
   "execution_count": 5,
   "metadata": {
    "collapsed": false
   },
   "outputs": [
    {
     "data": {
      "text/plain": [
       "array(['M', 'B'], dtype=object)"
      ]
     },
     "execution_count": 5,
     "metadata": {},
     "output_type": "execute_result"
    }
   ],
   "source": [
    "\n",
    "data.diagnosis.unique()"
   ]
  },
  {
   "cell_type": "code",
   "execution_count": 6,
   "metadata": {
    "collapsed": false
   },
   "outputs": [
    {
     "data": {
      "text/html": [
       "<div>\n",
       "<table border=\"1\" class=\"dataframe\">\n",
       "  <thead>\n",
       "    <tr style=\"text-align: right;\">\n",
       "      <th></th>\n",
       "      <th>id</th>\n",
       "      <th>diagnosis</th>\n",
       "      <th>radius_mean</th>\n",
       "      <th>texture_mean</th>\n",
       "      <th>perimeter_mean</th>\n",
       "      <th>area_mean</th>\n",
       "      <th>smoothness_mean</th>\n",
       "      <th>compactness_mean</th>\n",
       "      <th>concavity_mean</th>\n",
       "      <th>concave points_mean</th>\n",
       "      <th>...</th>\n",
       "      <th>radius_worst</th>\n",
       "      <th>texture_worst</th>\n",
       "      <th>perimeter_worst</th>\n",
       "      <th>area_worst</th>\n",
       "      <th>smoothness_worst</th>\n",
       "      <th>compactness_worst</th>\n",
       "      <th>concavity_worst</th>\n",
       "      <th>concave points_worst</th>\n",
       "      <th>symmetry_worst</th>\n",
       "      <th>fractal_dimension_worst</th>\n",
       "    </tr>\n",
       "  </thead>\n",
       "  <tbody>\n",
       "    <tr>\n",
       "      <th>0</th>\n",
       "      <td>842302</td>\n",
       "      <td>1</td>\n",
       "      <td>17.99</td>\n",
       "      <td>10.38</td>\n",
       "      <td>122.8</td>\n",
       "      <td>1001.0</td>\n",
       "      <td>0.11840</td>\n",
       "      <td>0.27760</td>\n",
       "      <td>0.3001</td>\n",
       "      <td>0.14710</td>\n",
       "      <td>...</td>\n",
       "      <td>25.38</td>\n",
       "      <td>17.33</td>\n",
       "      <td>184.6</td>\n",
       "      <td>2019.0</td>\n",
       "      <td>0.1622</td>\n",
       "      <td>0.6656</td>\n",
       "      <td>0.7119</td>\n",
       "      <td>0.2654</td>\n",
       "      <td>0.4601</td>\n",
       "      <td>0.11890</td>\n",
       "    </tr>\n",
       "    <tr>\n",
       "      <th>1</th>\n",
       "      <td>842517</td>\n",
       "      <td>1</td>\n",
       "      <td>20.57</td>\n",
       "      <td>17.77</td>\n",
       "      <td>132.9</td>\n",
       "      <td>1326.0</td>\n",
       "      <td>0.08474</td>\n",
       "      <td>0.07864</td>\n",
       "      <td>0.0869</td>\n",
       "      <td>0.07017</td>\n",
       "      <td>...</td>\n",
       "      <td>24.99</td>\n",
       "      <td>23.41</td>\n",
       "      <td>158.8</td>\n",
       "      <td>1956.0</td>\n",
       "      <td>0.1238</td>\n",
       "      <td>0.1866</td>\n",
       "      <td>0.2416</td>\n",
       "      <td>0.1860</td>\n",
       "      <td>0.2750</td>\n",
       "      <td>0.08902</td>\n",
       "    </tr>\n",
       "  </tbody>\n",
       "</table>\n",
       "<p>2 rows × 32 columns</p>\n",
       "</div>"
      ],
      "text/plain": [
       "       id  diagnosis  radius_mean  texture_mean  perimeter_mean  area_mean  \\\n",
       "0  842302          1        17.99         10.38           122.8     1001.0   \n",
       "1  842517          1        20.57         17.77           132.9     1326.0   \n",
       "\n",
       "   smoothness_mean  compactness_mean  concavity_mean  concave points_mean  \\\n",
       "0          0.11840           0.27760          0.3001              0.14710   \n",
       "1          0.08474           0.07864          0.0869              0.07017   \n",
       "\n",
       "            ...             radius_worst  texture_worst  perimeter_worst  \\\n",
       "0           ...                    25.38          17.33            184.6   \n",
       "1           ...                    24.99          23.41            158.8   \n",
       "\n",
       "   area_worst  smoothness_worst  compactness_worst  concavity_worst  \\\n",
       "0      2019.0            0.1622             0.6656           0.7119   \n",
       "1      1956.0            0.1238             0.1866           0.2416   \n",
       "\n",
       "   concave points_worst  symmetry_worst  fractal_dimension_worst  \n",
       "0                0.2654          0.4601                  0.11890  \n",
       "1                0.1860          0.2750                  0.08902  \n",
       "\n",
       "[2 rows x 32 columns]"
      ]
     },
     "execution_count": 6,
     "metadata": {},
     "output_type": "execute_result"
    }
   ],
   "source": [
    "#make diagnosis column numerical\n",
    "data['diagnosis'] = data['diagnosis'].map({'M':1,'B':0})\n",
    "data.head(2)"
   ]
  },
  {
   "cell_type": "code",
   "execution_count": 7,
   "metadata": {
    "collapsed": false
   },
   "outputs": [
    {
     "data": {
      "text/html": [
       "<div>\n",
       "<table border=\"1\" class=\"dataframe\">\n",
       "  <thead>\n",
       "    <tr style=\"text-align: right;\">\n",
       "      <th></th>\n",
       "      <th>diagnosis</th>\n",
       "      <th>radius_mean</th>\n",
       "      <th>texture_mean</th>\n",
       "      <th>perimeter_mean</th>\n",
       "      <th>area_mean</th>\n",
       "      <th>smoothness_mean</th>\n",
       "      <th>compactness_mean</th>\n",
       "      <th>concavity_mean</th>\n",
       "      <th>concave points_mean</th>\n",
       "      <th>symmetry_mean</th>\n",
       "      <th>...</th>\n",
       "      <th>radius_worst</th>\n",
       "      <th>texture_worst</th>\n",
       "      <th>perimeter_worst</th>\n",
       "      <th>area_worst</th>\n",
       "      <th>smoothness_worst</th>\n",
       "      <th>compactness_worst</th>\n",
       "      <th>concavity_worst</th>\n",
       "      <th>concave points_worst</th>\n",
       "      <th>symmetry_worst</th>\n",
       "      <th>fractal_dimension_worst</th>\n",
       "    </tr>\n",
       "  </thead>\n",
       "  <tbody>\n",
       "    <tr>\n",
       "      <th>0</th>\n",
       "      <td>1</td>\n",
       "      <td>17.99</td>\n",
       "      <td>10.38</td>\n",
       "      <td>122.8</td>\n",
       "      <td>1001.0</td>\n",
       "      <td>0.11840</td>\n",
       "      <td>0.27760</td>\n",
       "      <td>0.3001</td>\n",
       "      <td>0.14710</td>\n",
       "      <td>0.2419</td>\n",
       "      <td>...</td>\n",
       "      <td>25.38</td>\n",
       "      <td>17.33</td>\n",
       "      <td>184.6</td>\n",
       "      <td>2019.0</td>\n",
       "      <td>0.1622</td>\n",
       "      <td>0.6656</td>\n",
       "      <td>0.7119</td>\n",
       "      <td>0.2654</td>\n",
       "      <td>0.4601</td>\n",
       "      <td>0.11890</td>\n",
       "    </tr>\n",
       "    <tr>\n",
       "      <th>1</th>\n",
       "      <td>1</td>\n",
       "      <td>20.57</td>\n",
       "      <td>17.77</td>\n",
       "      <td>132.9</td>\n",
       "      <td>1326.0</td>\n",
       "      <td>0.08474</td>\n",
       "      <td>0.07864</td>\n",
       "      <td>0.0869</td>\n",
       "      <td>0.07017</td>\n",
       "      <td>0.1812</td>\n",
       "      <td>...</td>\n",
       "      <td>24.99</td>\n",
       "      <td>23.41</td>\n",
       "      <td>158.8</td>\n",
       "      <td>1956.0</td>\n",
       "      <td>0.1238</td>\n",
       "      <td>0.1866</td>\n",
       "      <td>0.2416</td>\n",
       "      <td>0.1860</td>\n",
       "      <td>0.2750</td>\n",
       "      <td>0.08902</td>\n",
       "    </tr>\n",
       "  </tbody>\n",
       "</table>\n",
       "<p>2 rows × 31 columns</p>\n",
       "</div>"
      ],
      "text/plain": [
       "   diagnosis  radius_mean  texture_mean  perimeter_mean  area_mean  \\\n",
       "0          1        17.99         10.38           122.8     1001.0   \n",
       "1          1        20.57         17.77           132.9     1326.0   \n",
       "\n",
       "   smoothness_mean  compactness_mean  concavity_mean  concave points_mean  \\\n",
       "0          0.11840           0.27760          0.3001              0.14710   \n",
       "1          0.08474           0.07864          0.0869              0.07017   \n",
       "\n",
       "   symmetry_mean           ...             radius_worst  texture_worst  \\\n",
       "0         0.2419           ...                    25.38          17.33   \n",
       "1         0.1812           ...                    24.99          23.41   \n",
       "\n",
       "   perimeter_worst  area_worst  smoothness_worst  compactness_worst  \\\n",
       "0            184.6      2019.0            0.1622             0.6656   \n",
       "1            158.8      1956.0            0.1238             0.1866   \n",
       "\n",
       "   concavity_worst  concave points_worst  symmetry_worst  \\\n",
       "0           0.7119                0.2654          0.4601   \n",
       "1           0.2416                0.1860          0.2750   \n",
       "\n",
       "   fractal_dimension_worst  \n",
       "0                  0.11890  \n",
       "1                  0.08902  \n",
       "\n",
       "[2 rows x 31 columns]"
      ]
     },
     "execution_count": 7,
     "metadata": {},
     "output_type": "execute_result"
    }
   ],
   "source": [
    "#drop ID because we do not need the ID number as shown above\n",
    "\n",
    "data.drop('id',axis=1,inplace=True)\n",
    "#check that dropped\n",
    "data.head(2)"
   ]
  },
  {
   "cell_type": "code",
   "execution_count": 8,
   "metadata": {
    "collapsed": false
   },
   "outputs": [
    {
     "name": "stdout",
     "output_type": "stream",
     "text": [
      "Minimum of radius mean is: 6.98 \n",
      "Maximum of radius mean is: 28.11 \n",
      "Average of radius mean is: 14.13 with a standard deviation of 3.52\n"
     ]
    }
   ],
   "source": [
    "#radius mean is the mean of distances from center to points on the perimeter of breast mass\n",
    "#so let's look at maximum, minimum, average, and standard deviation of radius mean\n",
    "min_radius = min(data['radius_mean'])\n",
    "max_radius = max(data['radius_mean'])\n",
    "average_radius = np.mean(data['radius_mean'])\n",
    "sd_radius = np.std(data['radius_mean'])\n",
    "\n",
    "print \"Minimum of radius mean is: {:,.2f} \".format(min_radius)\n",
    "print \"Maximum of radius mean is: {:,.2f} \".format(max_radius)\n",
    "print \"Average of radius mean is: {:,.2f} \".format(average_radius)+\"with a standard deviation of {:,.2f}\".format(sd_radius)\n"
   ]
  },
  {
   "cell_type": "code",
   "execution_count": 9,
   "metadata": {
    "collapsed": false
   },
   "outputs": [
    {
     "data": {
      "text/html": [
       "\n",
       "    <div class=\"bk-root\">\n",
       "        <a href=\"http://bokeh.pydata.org\" target=\"_blank\" class=\"bk-logo bk-logo-small bk-logo-notebook\"></a>\n",
       "        <span id=\"7b9c1ce4-54e5-400b-b80c-8bb4494b8d32\">Loading BokehJS ...</span>\n",
       "    </div>"
      ]
     },
     "metadata": {},
     "output_type": "display_data"
    },
    {
     "data": {
      "application/javascript": [
       "\n",
       "(function(global) {\n",
       "  function now() {\n",
       "    return new Date();\n",
       "  }\n",
       "\n",
       "  var force = \"1\";\n",
       "\n",
       "  if (typeof (window._bokeh_onload_callbacks) === \"undefined\" || force !== \"\") {\n",
       "    window._bokeh_onload_callbacks = [];\n",
       "    window._bokeh_is_loading = undefined;\n",
       "  }\n",
       "\n",
       "\n",
       "  \n",
       "  if (typeof (window._bokeh_timeout) === \"undefined\" || force !== \"\") {\n",
       "    window._bokeh_timeout = Date.now() + 5000;\n",
       "    window._bokeh_failed_load = false;\n",
       "  }\n",
       "\n",
       "  var NB_LOAD_WARNING = {'data': {'text/html':\n",
       "     \"<div style='background-color: #fdd'>\\n\"+\n",
       "     \"<p>\\n\"+\n",
       "     \"BokehJS does not appear to have successfully loaded. If loading BokehJS from CDN, this \\n\"+\n",
       "     \"may be due to a slow or bad network connection. Possible fixes:\\n\"+\n",
       "     \"</p>\\n\"+\n",
       "     \"<ul>\\n\"+\n",
       "     \"<li>re-rerun `output_notebook()` to attempt to load from CDN again, or</li>\\n\"+\n",
       "     \"<li>use INLINE resources instead, as so:</li>\\n\"+\n",
       "     \"</ul>\\n\"+\n",
       "     \"<code>\\n\"+\n",
       "     \"from bokeh.resources import INLINE\\n\"+\n",
       "     \"output_notebook(resources=INLINE)\\n\"+\n",
       "     \"</code>\\n\"+\n",
       "     \"</div>\"}};\n",
       "\n",
       "  function display_loaded() {\n",
       "    if (window.Bokeh !== undefined) {\n",
       "      Bokeh.$(\"#7b9c1ce4-54e5-400b-b80c-8bb4494b8d32\").text(\"BokehJS successfully loaded.\");\n",
       "    } else if (Date.now() < window._bokeh_timeout) {\n",
       "      setTimeout(display_loaded, 100)\n",
       "    }\n",
       "  }\n",
       "\n",
       "  function run_callbacks() {\n",
       "    window._bokeh_onload_callbacks.forEach(function(callback) { callback() });\n",
       "    delete window._bokeh_onload_callbacks\n",
       "    console.info(\"Bokeh: all callbacks have finished\");\n",
       "  }\n",
       "\n",
       "  function load_libs(js_urls, callback) {\n",
       "    window._bokeh_onload_callbacks.push(callback);\n",
       "    if (window._bokeh_is_loading > 0) {\n",
       "      console.log(\"Bokeh: BokehJS is being loaded, scheduling callback at\", now());\n",
       "      return null;\n",
       "    }\n",
       "    if (js_urls == null || js_urls.length === 0) {\n",
       "      run_callbacks();\n",
       "      return null;\n",
       "    }\n",
       "    console.log(\"Bokeh: BokehJS not loaded, scheduling load and callback at\", now());\n",
       "    window._bokeh_is_loading = js_urls.length;\n",
       "    for (var i = 0; i < js_urls.length; i++) {\n",
       "      var url = js_urls[i];\n",
       "      var s = document.createElement('script');\n",
       "      s.src = url;\n",
       "      s.async = false;\n",
       "      s.onreadystatechange = s.onload = function() {\n",
       "        window._bokeh_is_loading--;\n",
       "        if (window._bokeh_is_loading === 0) {\n",
       "          console.log(\"Bokeh: all BokehJS libraries loaded\");\n",
       "          run_callbacks()\n",
       "        }\n",
       "      };\n",
       "      s.onerror = function() {\n",
       "        console.warn(\"failed to load library \" + url);\n",
       "      };\n",
       "      console.log(\"Bokeh: injecting script tag for BokehJS library: \", url);\n",
       "      document.getElementsByTagName(\"head\")[0].appendChild(s);\n",
       "    }\n",
       "  };var element = document.getElementById(\"7b9c1ce4-54e5-400b-b80c-8bb4494b8d32\");\n",
       "  if (element == null) {\n",
       "    console.log(\"Bokeh: ERROR: autoload.js configured with elementid '7b9c1ce4-54e5-400b-b80c-8bb4494b8d32' but no matching script tag was found. \")\n",
       "    return false;\n",
       "  }\n",
       "\n",
       "  var js_urls = ['https://cdn.pydata.org/bokeh/release/bokeh-0.12.2.min.js', 'https://cdn.pydata.org/bokeh/release/bokeh-widgets-0.12.2.min.js', 'https://cdn.pydata.org/bokeh/release/bokeh-compiler-0.12.2.min.js'];\n",
       "\n",
       "  var inline_js = [\n",
       "    function(Bokeh) {\n",
       "      Bokeh.set_log_level(\"info\");\n",
       "    },\n",
       "    \n",
       "    function(Bokeh) {\n",
       "      \n",
       "      Bokeh.$(\"#7b9c1ce4-54e5-400b-b80c-8bb4494b8d32\").text(\"BokehJS is loading...\");\n",
       "    },\n",
       "    function(Bokeh) {\n",
       "      console.log(\"Bokeh: injecting CSS: https://cdn.pydata.org/bokeh/release/bokeh-0.12.2.min.css\");\n",
       "      Bokeh.embed.inject_css(\"https://cdn.pydata.org/bokeh/release/bokeh-0.12.2.min.css\");\n",
       "      console.log(\"Bokeh: injecting CSS: https://cdn.pydata.org/bokeh/release/bokeh-widgets-0.12.2.min.css\");\n",
       "      Bokeh.embed.inject_css(\"https://cdn.pydata.org/bokeh/release/bokeh-widgets-0.12.2.min.css\");\n",
       "    }\n",
       "  ];\n",
       "\n",
       "  function run_inline_js() {\n",
       "    \n",
       "    if ((window.Bokeh !== undefined) || (force === \"1\")) {\n",
       "      for (var i = 0; i < inline_js.length; i++) {\n",
       "        inline_js[i](window.Bokeh);\n",
       "      }if (force === \"1\") {\n",
       "        display_loaded();\n",
       "      }} else if (Date.now() < window._bokeh_timeout) {\n",
       "      setTimeout(run_inline_js, 100);\n",
       "    } else if (!window._bokeh_failed_load) {\n",
       "      console.log(\"Bokeh: BokehJS failed to load within specified timeout.\");\n",
       "      window._bokeh_failed_load = true;\n",
       "    } else if (!force) {\n",
       "      var cell = $(\"#7b9c1ce4-54e5-400b-b80c-8bb4494b8d32\").parents('.cell').data().cell;\n",
       "      cell.output_area.append_execute_result(NB_LOAD_WARNING)\n",
       "    }\n",
       "\n",
       "  }\n",
       "\n",
       "  if (window._bokeh_is_loading === 0) {\n",
       "    console.log(\"Bokeh: BokehJS loaded, going straight to plotting\");\n",
       "    run_inline_js();\n",
       "  } else {\n",
       "    load_libs(js_urls, function() {\n",
       "      console.log(\"Bokeh: BokehJS plotting callback run at\", now());\n",
       "      run_inline_js();\n",
       "    });\n",
       "  }\n",
       "}(this));"
      ]
     },
     "metadata": {},
     "output_type": "display_data"
    }
   ],
   "source": [
    "#bring forth visualization packages \n",
    "\n",
    "from bokeh.plotting import figure, show, output_file\n",
    "from bokeh.palettes import brewer\n",
    "from bokeh.charts import Area, show, output_file, defaults\n",
    "from bokeh.layouts import row\n",
    "from bokeh.io import push_notebook, show, output_notebook\n",
    "output_notebook()"
   ]
  },
  {
   "cell_type": "code",
   "execution_count": 10,
   "metadata": {
    "collapsed": true
   },
   "outputs": [],
   "source": [
    "#to see how distribution is in regard to the diagnosis, we need to first split\n",
    "#the dataset into two groups\n",
    "malignant = data[data['diagnosis'] ==1]\n",
    "benign = data[data['diagnosis'] ==0]\n",
    "\n",
    "#also bring features back, basically redefining them again- the first ten\n",
    "\n",
    "features = list(data.columns[1:2])"
   ]
  },
  {
   "cell_type": "code",
   "execution_count": 11,
   "metadata": {
    "collapsed": true
   },
   "outputs": [],
   "source": [
    "defaults.width = 300\n",
    "defaults.height = 300"
   ]
  },
  {
   "cell_type": "code",
   "execution_count": 12,
   "metadata": {
    "collapsed": false
   },
   "outputs": [
    {
     "data": {
      "text/html": [
       "\n",
       "\n",
       "    <div class=\"bk-root\">\n",
       "        <div class=\"plotdiv\" id=\"38b51bb3-c3f3-4e35-8c86-bb5f960df982\"></div>\n",
       "    </div>\n",
       "<script type=\"text/javascript\">\n",
       "  \n",
       "  (function(global) {\n",
       "    function now() {\n",
       "      return new Date();\n",
       "    }\n",
       "  \n",
       "    var force = \"\";\n",
       "  \n",
       "    if (typeof (window._bokeh_onload_callbacks) === \"undefined\" || force !== \"\") {\n",
       "      window._bokeh_onload_callbacks = [];\n",
       "      window._bokeh_is_loading = undefined;\n",
       "    }\n",
       "  \n",
       "  \n",
       "    \n",
       "    if (typeof (window._bokeh_timeout) === \"undefined\" || force !== \"\") {\n",
       "      window._bokeh_timeout = Date.now() + 0;\n",
       "      window._bokeh_failed_load = false;\n",
       "    }\n",
       "  \n",
       "    var NB_LOAD_WARNING = {'data': {'text/html':\n",
       "       \"<div style='background-color: #fdd'>\\n\"+\n",
       "       \"<p>\\n\"+\n",
       "       \"BokehJS does not appear to have successfully loaded. If loading BokehJS from CDN, this \\n\"+\n",
       "       \"may be due to a slow or bad network connection. Possible fixes:\\n\"+\n",
       "       \"</p>\\n\"+\n",
       "       \"<ul>\\n\"+\n",
       "       \"<li>re-rerun `output_notebook()` to attempt to load from CDN again, or</li>\\n\"+\n",
       "       \"<li>use INLINE resources instead, as so:</li>\\n\"+\n",
       "       \"</ul>\\n\"+\n",
       "       \"<code>\\n\"+\n",
       "       \"from bokeh.resources import INLINE\\n\"+\n",
       "       \"output_notebook(resources=INLINE)\\n\"+\n",
       "       \"</code>\\n\"+\n",
       "       \"</div>\"}};\n",
       "  \n",
       "    function display_loaded() {\n",
       "      if (window.Bokeh !== undefined) {\n",
       "        Bokeh.$(\"#38b51bb3-c3f3-4e35-8c86-bb5f960df982\").text(\"BokehJS successfully loaded.\");\n",
       "      } else if (Date.now() < window._bokeh_timeout) {\n",
       "        setTimeout(display_loaded, 100)\n",
       "      }\n",
       "    }\n",
       "  \n",
       "    function run_callbacks() {\n",
       "      window._bokeh_onload_callbacks.forEach(function(callback) { callback() });\n",
       "      delete window._bokeh_onload_callbacks\n",
       "      console.info(\"Bokeh: all callbacks have finished\");\n",
       "    }\n",
       "  \n",
       "    function load_libs(js_urls, callback) {\n",
       "      window._bokeh_onload_callbacks.push(callback);\n",
       "      if (window._bokeh_is_loading > 0) {\n",
       "        console.log(\"Bokeh: BokehJS is being loaded, scheduling callback at\", now());\n",
       "        return null;\n",
       "      }\n",
       "      if (js_urls == null || js_urls.length === 0) {\n",
       "        run_callbacks();\n",
       "        return null;\n",
       "      }\n",
       "      console.log(\"Bokeh: BokehJS not loaded, scheduling load and callback at\", now());\n",
       "      window._bokeh_is_loading = js_urls.length;\n",
       "      for (var i = 0; i < js_urls.length; i++) {\n",
       "        var url = js_urls[i];\n",
       "        var s = document.createElement('script');\n",
       "        s.src = url;\n",
       "        s.async = false;\n",
       "        s.onreadystatechange = s.onload = function() {\n",
       "          window._bokeh_is_loading--;\n",
       "          if (window._bokeh_is_loading === 0) {\n",
       "            console.log(\"Bokeh: all BokehJS libraries loaded\");\n",
       "            run_callbacks()\n",
       "          }\n",
       "        };\n",
       "        s.onerror = function() {\n",
       "          console.warn(\"failed to load library \" + url);\n",
       "        };\n",
       "        console.log(\"Bokeh: injecting script tag for BokehJS library: \", url);\n",
       "        document.getElementsByTagName(\"head\")[0].appendChild(s);\n",
       "      }\n",
       "    };var element = document.getElementById(\"38b51bb3-c3f3-4e35-8c86-bb5f960df982\");\n",
       "    if (element == null) {\n",
       "      console.log(\"Bokeh: ERROR: autoload.js configured with elementid '38b51bb3-c3f3-4e35-8c86-bb5f960df982' but no matching script tag was found. \")\n",
       "      return false;\n",
       "    }\n",
       "  \n",
       "    var js_urls = [];\n",
       "  \n",
       "    var inline_js = [\n",
       "      function(Bokeh) {\n",
       "        Bokeh.$(function() {\n",
       "            var docs_json = {\"ec562831-a3fb-43f9-b6bf-d6bc3056ee09\":{\"roots\":{\"references\":[{\"attributes\":{\"callback\":null,\"end\":622.9,\"start\":-35.900000000000006},\"id\":\"e880d2bb-683b-4c83-9f92-2867cc1a68a4\",\"type\":\"Range1d\"},{\"attributes\":{},\"id\":\"6c1b8510-7bd2-48cb-8c9e-23668f986c6f\",\"type\":\"ToolEvents\"},{\"attributes\":{\"data_source\":{\"id\":\"f499e955-f66a-4edc-9600-541279402856\",\"type\":\"ColumnDataSource\"},\"glyph\":{\"id\":\"ad5333e9-86e3-4220-a8b9-e12a525ed558\",\"type\":\"Patches\"},\"hover_glyph\":null,\"nonselection_glyph\":null,\"selection_glyph\":null},\"id\":\"f6060794-a08b-4647-876e-f429b20f3a43\",\"type\":\"GlyphRenderer\"},{\"attributes\":{},\"id\":\"df100a84-b515-4dad-8d44-79f1bb2e4125\",\"type\":\"BasicTicker\"},{\"attributes\":{\"axis_label\":\"index\",\"formatter\":{\"id\":\"91363d79-2bc3-4a7a-9263-6d89bcfe6f22\",\"type\":\"BasicTickFormatter\"},\"plot\":{\"id\":\"06581b4a-33ee-406b-afc2-34f6ec9b3c3a\",\"subtype\":\"Chart\",\"type\":\"Plot\"},\"ticker\":{\"id\":\"85f0f81a-5b5c-418f-92d7-fd583d53e396\",\"type\":\"BasicTicker\"}},\"id\":\"b8537144-7a7b-4066-b211-4b3e30c0f89e\",\"type\":\"LinearAxis\"},{\"attributes\":{\"below\":[{\"id\":\"b8537144-7a7b-4066-b211-4b3e30c0f89e\",\"type\":\"LinearAxis\"}],\"height\":300,\"left\":[{\"id\":\"45d69cc1-df35-4714-a98f-60d607233b54\",\"type\":\"LinearAxis\"}],\"renderers\":[{\"id\":\"23521ed7-defb-4c74-93ab-4ad47dd3ffe2\",\"type\":\"BoxAnnotation\"},{\"id\":\"f6060794-a08b-4647-876e-f429b20f3a43\",\"type\":\"GlyphRenderer\"},{\"id\":\"52dbc0dd-8956-45f5-ae95-4453cc84c1d1\",\"type\":\"Legend\"},{\"id\":\"b8537144-7a7b-4066-b211-4b3e30c0f89e\",\"type\":\"LinearAxis\"},{\"id\":\"45d69cc1-df35-4714-a98f-60d607233b54\",\"type\":\"LinearAxis\"},{\"id\":\"2e742240-20b7-4d48-ac8d-d76286acbbcd\",\"type\":\"Grid\"},{\"id\":\"46809ac4-c2b3-4b1d-8523-a138ee9218c8\",\"type\":\"Grid\"}],\"title\":{\"id\":\"b21cabbc-669f-4001-aee0-1f3eeb9657ff\",\"type\":\"Title\"},\"tool_events\":{\"id\":\"6c1b8510-7bd2-48cb-8c9e-23668f986c6f\",\"type\":\"ToolEvents\"},\"toolbar\":{\"id\":\"9c838f26-4a97-4ad0-b209-7fea812b03b3\",\"type\":\"Toolbar\"},\"width\":300,\"x_mapper_type\":\"auto\",\"x_range\":{\"id\":\"e880d2bb-683b-4c83-9f92-2867cc1a68a4\",\"type\":\"Range1d\"},\"y_mapper_type\":\"auto\",\"y_range\":{\"id\":\"7b2d4381-0acf-4228-b9e3-9ffe67857f75\",\"type\":\"Range1d\"}},\"id\":\"06581b4a-33ee-406b-afc2-34f6ec9b3c3a\",\"subtype\":\"Chart\",\"type\":\"Plot\"},{\"attributes\":{\"axis_label\":\"value\",\"formatter\":{\"id\":\"0f41cb18-d921-42d2-a77b-a23f00a3f79d\",\"type\":\"BasicTickFormatter\"},\"plot\":{\"id\":\"477c39d5-f2ee-4ceb-b113-f3c87cb2e483\",\"subtype\":\"Chart\",\"type\":\"Plot\"},\"ticker\":{\"id\":\"df100a84-b515-4dad-8d44-79f1bb2e4125\",\"type\":\"BasicTicker\"}},\"id\":\"da0bda7a-cd2d-4f5a-98ff-1c930bf682e2\",\"type\":\"LinearAxis\"},{\"attributes\":{\"plot\":{\"id\":\"06581b4a-33ee-406b-afc2-34f6ec9b3c3a\",\"subtype\":\"Chart\",\"type\":\"Plot\"}},\"id\":\"a8d44b78-4d10-4aec-861f-1c47c9ae16a1\",\"type\":\"WheelZoomTool\"},{\"attributes\":{},\"id\":\"14ee5a64-e190-42bf-907e-cfd949b99f0e\",\"type\":\"BasicTickFormatter\"},{\"attributes\":{\"plot\":{\"id\":\"477c39d5-f2ee-4ceb-b113-f3c87cb2e483\",\"subtype\":\"Chart\",\"type\":\"Plot\"}},\"id\":\"cb184393-dd70-4972-8cb2-81120f3e6913\",\"type\":\"SaveTool\"},{\"attributes\":{\"plot\":{\"id\":\"477c39d5-f2ee-4ceb-b113-f3c87cb2e483\",\"subtype\":\"Chart\",\"type\":\"Plot\"}},\"id\":\"b1cd3394-3b37-47fe-b628-2ea155459e85\",\"type\":\"PanTool\"},{\"attributes\":{\"callback\":null,\"column_names\":[\"x_values\",\"y_values\"],\"data\":{\"chart_index\":[{\"series\":\"radius_mean\"}],\"series\":[\"radius_mean\"],\"x_values\":[[0,0,1,2,3,4,5,6,7,8,9,10,11,12,13,14,15,16,17,18,22,23,24,25,26,27,28,29,30,31,32,33,34,35,36,38,39,40,41,42,43,44,45,47,53,54,56,57,62,64,65,70,72,73,75,77,78,82,83,85,86,87,91,94,95,99,100,105,108,117,118,119,121,122,126,127,129,131,132,134,135,138,141,146,156,161,162,164,167,168,171,172,177,180,181,182,184,186,190,193,194,196,197,198,199,201,202,203,205,207,210,212,213,214,215,218,219,223,229,230,233,236,237,239,244,250,252,253,254,255,256,257,258,259,260,261,262,263,264,265,272,274,277,280,282,283,297,300,302,317,321,323,328,329,330,335,337,339,343,351,352,353,365,366,368,369,370,372,373,379,385,389,392,393,400,408,414,417,430,432,433,435,441,444,446,449,451,460,461,468,479,487,489,492,498,499,501,503,509,512,514,516,517,521,533,535,536,562,563,564,565,566,567,567,567,567,566,565,564,563,562,536,535,533,521,517,516,514,512,509,503,501,499,498,492,489,487,479,468,461,460,451,449,446,444,441,435,433,432,430,417,414,408,400,393,392,389,385,379,373,372,370,369,368,366,365,353,352,351,343,339,337,335,330,329,328,323,321,317,302,300,297,283,282,280,277,274,272,265,264,263,262,261,260,259,258,257,256,255,254,253,252,250,244,239,237,236,233,230,229,223,219,218,215,214,213,212,210,207,205,203,202,201,199,198,197,196,194,193,190,186,184,182,181,180,177,172,171,168,167,164,162,161,156,146,141,138,135,134,132,131,129,127,126,122,121,119,118,117,108,105,100,99,95,94,91,87,86,85,83,82,78,77,75,73,72,70,65,64,62,57,56,54,53,47,45,44,43,42,41,40,39,38,36,35,34,33,32,31,30,29,28,27,26,25,24,23,22,18,17,16,15,14,13,12,11,10,9,8,7,6,5,4,3,2,1,0,0]],\"y_values\":[[0.0,17.99,20.57,19.69,11.42,20.29,12.45,18.25,13.71,13.0,12.46,16.02,15.78,19.17,15.85,13.73,14.54,14.68,16.13,19.81,15.34,21.16,16.65,17.14,14.58,18.61,15.3,17.57,18.63,11.84,17.02,19.27,16.13,16.74,14.25,14.99,13.48,13.44,10.95,19.07,13.28,13.17,18.65,13.17,18.22,15.1,19.21,14.71,14.25,12.68,14.78,18.94,17.2,13.8,16.07,18.05,20.18,25.22,19.1,18.46,14.48,19.02,15.37,15.06,20.26,14.42,13.61,13.11,22.27,14.87,15.78,17.95,18.66,24.25,13.61,19.0,19.79,15.46,16.16,18.45,12.77,14.95,16.11,11.8,17.68,19.19,19.59,23.27,16.78,17.47,13.43,15.46,16.46,27.22,21.09,15.7,15.28,18.31,14.22,12.34,14.86,13.77,18.08,19.18,14.45,17.54,23.29,13.81,15.12,17.01,20.58,28.11,17.42,14.19,13.86,19.8,19.53,15.75,12.83,17.05,20.51,23.21,20.48,17.46,19.4,20.94,19.73,17.3,19.45,13.96,19.55,15.32,15.66,15.53,20.31,17.35,17.29,15.61,17.19,20.73,21.75,17.93,18.81,19.16,19.4,16.24,11.76,19.53,20.09,18.22,20.16,20.34,16.27,16.26,16.03,17.06,18.77,23.51,19.68,15.75,25.73,15.08,20.44,20.2,21.71,22.01,16.35,21.37,20.64,11.08,14.6,19.55,15.49,21.61,17.91,17.99,15.13,15.5,14.9,20.18,18.82,13.98,17.27,18.03,17.75,21.1,19.59,17.08,27.42,17.6,16.25,19.44,16.69,18.01,18.49,20.59,13.82,23.09,15.46,13.4,15.05,18.31,19.89,24.63,20.47,20.55,14.27,15.22,20.92,21.56,20.13,16.6,20.6,0.0,0.0,0.0,0.0,0.0,0.0,0.0,0.0,0.0,0.0,0.0,0.0,0.0,0.0,0.0,0.0,0.0,0.0,0.0,0.0,0.0,0.0,0.0,0.0,0.0,0.0,0.0,0.0,0.0,0.0,0.0,0.0,0.0,0.0,0.0,0.0,0.0,0.0,0.0,0.0,0.0,0.0,0.0,0.0,0.0,0.0,0.0,0.0,0.0,0.0,0.0,0.0,0.0,0.0,0.0,0.0,0.0,0.0,0.0,0.0,0.0,0.0,0.0,0.0,0.0,0.0,0.0,0.0,0.0,0.0,0.0,0.0,0.0,0.0,0.0,0.0,0.0,0.0,0.0,0.0,0.0,0.0,0.0,0.0,0.0,0.0,0.0,0.0,0.0,0.0,0.0,0.0,0.0,0.0,0.0,0.0,0.0,0.0,0.0,0.0,0.0,0.0,0.0,0.0,0.0,0.0,0.0,0.0,0.0,0.0,0.0,0.0,0.0,0.0,0.0,0.0,0.0,0.0,0.0,0.0,0.0,0.0,0.0,0.0,0.0,0.0,0.0,0.0,0.0,0.0,0.0,0.0,0.0,0.0,0.0,0.0,0.0,0.0,0.0,0.0,0.0,0.0,0.0,0.0,0.0,0.0,0.0,0.0,0.0,0.0,0.0,0.0,0.0,0.0,0.0,0.0,0.0,0.0,0.0,0.0,0.0,0.0,0.0,0.0,0.0,0.0,0.0,0.0,0.0,0.0,0.0,0.0,0.0,0.0,0.0,0.0,0.0,0.0,0.0,0.0,0.0,0.0,0.0,0.0,0.0,0.0,0.0,0.0,0.0,0.0,0.0,0.0,0.0,0.0,0.0,0.0,0.0,0.0,0.0,0.0,0.0,0.0,0.0,0.0,0.0,0.0,0.0,0.0,0.0,0.0,0.0,0.0,0.0,0.0,0.0]]}},\"id\":\"013ff682-2103-4d05-aeae-a70070dfcc97\",\"type\":\"ColumnDataSource\"},{\"attributes\":{\"active_drag\":\"auto\",\"active_scroll\":\"auto\",\"active_tap\":\"auto\",\"tools\":[{\"id\":\"c3c308bb-d419-4b3d-bfb6-fbbf50eaddaa\",\"type\":\"PanTool\"},{\"id\":\"a8d44b78-4d10-4aec-861f-1c47c9ae16a1\",\"type\":\"WheelZoomTool\"},{\"id\":\"05867b85-5cf8-4cf2-aa5e-fe50c3849758\",\"type\":\"BoxZoomTool\"},{\"id\":\"b8db24e9-7d81-42d3-bf80-0c9c4b87789b\",\"type\":\"SaveTool\"},{\"id\":\"46c36e54-1c76-4ac3-b54f-7ecd01445719\",\"type\":\"ResetTool\"},{\"id\":\"51a0216b-2eb5-4aa6-a800-b5b45154d1cd\",\"type\":\"HelpTool\"}]},\"id\":\"9c838f26-4a97-4ad0-b209-7fea812b03b3\",\"type\":\"Toolbar\"},{\"attributes\":{\"plot\":{\"id\":\"06581b4a-33ee-406b-afc2-34f6ec9b3c3a\",\"subtype\":\"Chart\",\"type\":\"Plot\"}},\"id\":\"b8db24e9-7d81-42d3-bf80-0c9c4b87789b\",\"type\":\"SaveTool\"},{\"attributes\":{\"dimension\":1,\"plot\":{\"id\":\"06581b4a-33ee-406b-afc2-34f6ec9b3c3a\",\"subtype\":\"Chart\",\"type\":\"Plot\"},\"ticker\":{\"id\":\"9651ebed-2b44-4c82-b693-b58c903076b4\",\"type\":\"BasicTicker\"}},\"id\":\"46809ac4-c2b3-4b1d-8523-a138ee9218c8\",\"type\":\"Grid\"},{\"attributes\":{\"bottom_units\":\"screen\",\"fill_alpha\":{\"value\":0.5},\"fill_color\":{\"value\":\"lightgrey\"},\"left_units\":\"screen\",\"level\":\"overlay\",\"line_alpha\":{\"value\":1.0},\"line_color\":{\"value\":\"black\"},\"line_dash\":[4,4],\"line_width\":{\"value\":2},\"plot\":null,\"render_mode\":\"css\",\"right_units\":\"screen\",\"top_units\":\"screen\"},\"id\":\"59ffc96b-e068-456b-bb35-750f9862e577\",\"type\":\"BoxAnnotation\"},{\"attributes\":{\"plot\":{\"id\":\"477c39d5-f2ee-4ceb-b113-f3c87cb2e483\",\"subtype\":\"Chart\",\"type\":\"Plot\"}},\"id\":\"8607c272-1082-4ad5-8c36-832ed8a6c712\",\"type\":\"HelpTool\"},{\"attributes\":{\"children\":[{\"id\":\"477c39d5-f2ee-4ceb-b113-f3c87cb2e483\",\"subtype\":\"Chart\",\"type\":\"Plot\"},{\"id\":\"06581b4a-33ee-406b-afc2-34f6ec9b3c3a\",\"subtype\":\"Chart\",\"type\":\"Plot\"}]},\"id\":\"34a08b36-bd04-4137-99ee-2a9f2f532d7b\",\"type\":\"Row\"},{\"attributes\":{\"plot\":{\"id\":\"06581b4a-33ee-406b-afc2-34f6ec9b3c3a\",\"subtype\":\"Chart\",\"type\":\"Plot\"}},\"id\":\"51a0216b-2eb5-4aa6-a800-b5b45154d1cd\",\"type\":\"HelpTool\"},{\"attributes\":{\"plot\":{\"id\":\"477c39d5-f2ee-4ceb-b113-f3c87cb2e483\",\"subtype\":\"Chart\",\"type\":\"Plot\"}},\"id\":\"514a855f-62db-4d60-9fcb-34faf4a4bce4\",\"type\":\"ResetTool\"},{\"attributes\":{},\"id\":\"91363d79-2bc3-4a7a-9263-6d89bcfe6f22\",\"type\":\"BasicTickFormatter\"},{\"attributes\":{\"plot\":null,\"text\":\"Radius mean for malignant cases\"},\"id\":\"e2c8c751-4932-4b5f-8520-bbf1697f8f11\",\"type\":\"Title\"},{\"attributes\":{\"overlay\":{\"id\":\"59ffc96b-e068-456b-bb35-750f9862e577\",\"type\":\"BoxAnnotation\"},\"plot\":{\"id\":\"477c39d5-f2ee-4ceb-b113-f3c87cb2e483\",\"subtype\":\"Chart\",\"type\":\"Plot\"}},\"id\":\"3a06f0d8-5487-4b50-a63f-5335d873b145\",\"type\":\"BoxZoomTool\"},{\"attributes\":{\"axis_label\":\"value\",\"formatter\":{\"id\":\"14ee5a64-e190-42bf-907e-cfd949b99f0e\",\"type\":\"BasicTickFormatter\"},\"plot\":{\"id\":\"06581b4a-33ee-406b-afc2-34f6ec9b3c3a\",\"subtype\":\"Chart\",\"type\":\"Plot\"},\"ticker\":{\"id\":\"9651ebed-2b44-4c82-b693-b58c903076b4\",\"type\":\"BasicTicker\"}},\"id\":\"45d69cc1-df35-4714-a98f-60d607233b54\",\"type\":\"LinearAxis\"},{\"attributes\":{\"legends\":[[\"radius_mean\",[{\"id\":\"ce482de5-4a82-4e9d-bdbb-4c2630facf4f\",\"type\":\"GlyphRenderer\"}]]],\"location\":\"top_left\",\"plot\":{\"id\":\"477c39d5-f2ee-4ceb-b113-f3c87cb2e483\",\"subtype\":\"Chart\",\"type\":\"Plot\"}},\"id\":\"81a858af-5379-4ed6-b2f5-7c3214f4b4cb\",\"type\":\"Legend\"},{\"attributes\":{\"callback\":null,\"end\":623.7,\"start\":-56.7},\"id\":\"670b98b2-d39a-406d-97a0-ecc05c1d4300\",\"type\":\"Range1d\"},{\"attributes\":{\"legends\":[[\"radius_mean\",[{\"id\":\"f6060794-a08b-4647-876e-f429b20f3a43\",\"type\":\"GlyphRenderer\"}]]],\"location\":\"top_left\",\"plot\":{\"id\":\"06581b4a-33ee-406b-afc2-34f6ec9b3c3a\",\"subtype\":\"Chart\",\"type\":\"Plot\"}},\"id\":\"52dbc0dd-8956-45f5-ae95-4453cc84c1d1\",\"type\":\"Legend\"},{\"attributes\":{\"active_drag\":\"auto\",\"active_scroll\":\"auto\",\"active_tap\":\"auto\",\"tools\":[{\"id\":\"b1cd3394-3b37-47fe-b628-2ea155459e85\",\"type\":\"PanTool\"},{\"id\":\"56b40bf9-79b3-46be-bdd5-3b2e1fef54d2\",\"type\":\"WheelZoomTool\"},{\"id\":\"3a06f0d8-5487-4b50-a63f-5335d873b145\",\"type\":\"BoxZoomTool\"},{\"id\":\"cb184393-dd70-4972-8cb2-81120f3e6913\",\"type\":\"SaveTool\"},{\"id\":\"514a855f-62db-4d60-9fcb-34faf4a4bce4\",\"type\":\"ResetTool\"},{\"id\":\"8607c272-1082-4ad5-8c36-832ed8a6c712\",\"type\":\"HelpTool\"}]},\"id\":\"4f42f668-650a-446d-b496-bd5bb0d10fef\",\"type\":\"Toolbar\"},{\"attributes\":{\"plot\":{\"id\":\"477c39d5-f2ee-4ceb-b113-f3c87cb2e483\",\"subtype\":\"Chart\",\"type\":\"Plot\"},\"ticker\":{\"id\":\"304ceab0-c378-4789-866f-b4d0f85512b7\",\"type\":\"BasicTicker\"}},\"id\":\"1bbd9dec-1072-4954-ae9c-d4bedd0bd085\",\"type\":\"Grid\"},{\"attributes\":{\"below\":[{\"id\":\"3a827ccb-9f76-47d1-b58e-44ae7cc7bbcb\",\"type\":\"LinearAxis\"}],\"height\":300,\"left\":[{\"id\":\"da0bda7a-cd2d-4f5a-98ff-1c930bf682e2\",\"type\":\"LinearAxis\"}],\"renderers\":[{\"id\":\"59ffc96b-e068-456b-bb35-750f9862e577\",\"type\":\"BoxAnnotation\"},{\"id\":\"ce482de5-4a82-4e9d-bdbb-4c2630facf4f\",\"type\":\"GlyphRenderer\"},{\"id\":\"81a858af-5379-4ed6-b2f5-7c3214f4b4cb\",\"type\":\"Legend\"},{\"id\":\"3a827ccb-9f76-47d1-b58e-44ae7cc7bbcb\",\"type\":\"LinearAxis\"},{\"id\":\"da0bda7a-cd2d-4f5a-98ff-1c930bf682e2\",\"type\":\"LinearAxis\"},{\"id\":\"1bbd9dec-1072-4954-ae9c-d4bedd0bd085\",\"type\":\"Grid\"},{\"id\":\"176a13b9-a2f7-4efc-937c-637a0c4ab889\",\"type\":\"Grid\"}],\"title\":{\"id\":\"e2c8c751-4932-4b5f-8520-bbf1697f8f11\",\"type\":\"Title\"},\"tool_events\":{\"id\":\"4c681740-830c-4e90-a53c-b1d2fb5bfc05\",\"type\":\"ToolEvents\"},\"toolbar\":{\"id\":\"4f42f668-650a-446d-b496-bd5bb0d10fef\",\"type\":\"Toolbar\"},\"width\":300,\"x_mapper_type\":\"auto\",\"x_range\":{\"id\":\"670b98b2-d39a-406d-97a0-ecc05c1d4300\",\"type\":\"Range1d\"},\"y_mapper_type\":\"auto\",\"y_range\":{\"id\":\"f28e30a2-6680-459a-bc57-79717420d5a2\",\"type\":\"Range1d\"}},\"id\":\"477c39d5-f2ee-4ceb-b113-f3c87cb2e483\",\"subtype\":\"Chart\",\"type\":\"Plot\"},{\"attributes\":{\"plot\":{\"id\":\"06581b4a-33ee-406b-afc2-34f6ec9b3c3a\",\"subtype\":\"Chart\",\"type\":\"Plot\"},\"ticker\":{\"id\":\"85f0f81a-5b5c-418f-92d7-fd583d53e396\",\"type\":\"BasicTicker\"}},\"id\":\"2e742240-20b7-4d48-ac8d-d76286acbbcd\",\"type\":\"Grid\"},{\"attributes\":{\"callback\":null,\"column_names\":[\"x_values\",\"y_values\"],\"data\":{\"chart_index\":[{\"series\":\"radius_mean\"}],\"series\":[\"radius_mean\"],\"x_values\":[[19,19,20,21,37,46,48,49,50,51,52,55,58,59,60,61,63,66,67,68,69,71,74,76,79,80,81,84,88,89,90,92,93,96,97,98,101,102,103,104,106,107,109,110,111,112,113,114,115,116,120,123,124,125,128,130,133,136,137,139,140,142,143,144,145,147,148,149,150,151,152,153,154,155,157,158,159,160,163,165,166,169,170,173,174,175,176,178,179,183,185,187,188,189,191,192,195,200,204,206,208,209,211,216,217,220,221,222,224,225,226,227,228,231,232,234,235,238,240,241,242,243,245,246,247,248,249,251,266,267,268,269,270,271,273,275,276,278,279,281,284,285,286,287,288,289,290,291,292,293,294,295,296,298,299,301,303,304,305,306,307,308,309,310,311,312,313,314,315,316,318,319,320,322,324,325,326,327,331,332,333,334,336,338,340,341,342,344,345,346,347,348,349,350,354,355,356,357,358,359,360,361,362,363,364,367,371,374,375,376,377,378,380,381,382,383,384,386,387,388,390,391,394,395,396,397,398,399,401,402,403,404,405,406,407,409,410,411,412,413,415,416,418,419,420,421,422,423,424,425,426,427,428,429,431,434,436,437,438,439,440,442,443,445,447,448,450,452,453,454,455,456,457,458,459,462,463,464,465,466,467,469,470,471,472,473,474,475,476,477,478,480,481,482,483,484,485,486,488,490,491,493,494,495,496,497,500,502,504,505,506,507,508,510,511,513,515,518,519,520,522,523,524,525,526,527,528,529,530,531,532,534,537,538,539,540,541,542,543,544,545,546,547,548,549,550,551,552,553,554,555,556,557,558,559,560,561,568,568,568,568,561,560,559,558,557,556,555,554,553,552,551,550,549,548,547,546,545,544,543,542,541,540,539,538,537,534,532,531,530,529,528,527,526,525,524,523,522,520,519,518,515,513,511,510,508,507,506,505,504,502,500,497,496,495,494,493,491,490,488,486,485,484,483,482,481,480,478,477,476,475,474,473,472,471,470,469,467,466,465,464,463,462,459,458,457,456,455,454,453,452,450,448,447,445,443,442,440,439,438,437,436,434,431,429,428,427,426,425,424,423,422,421,420,419,418,416,415,413,412,411,410,409,407,406,405,404,403,402,401,399,398,397,396,395,394,391,390,388,387,386,384,383,382,381,380,378,377,376,375,374,371,367,364,363,362,361,360,359,358,357,356,355,354,350,349,348,347,346,345,344,342,341,340,338,336,334,333,332,331,327,326,325,324,322,320,319,318,316,315,314,313,312,311,310,309,308,307,306,305,304,303,301,299,298,296,295,294,293,292,291,290,289,288,287,286,285,284,281,279,278,276,275,273,271,270,269,268,267,266,251,249,248,247,246,245,243,242,241,240,238,235,234,232,231,228,227,226,225,224,222,221,220,217,216,211,209,208,206,204,200,195,192,191,189,188,187,185,183,179,178,176,175,174,173,170,169,166,165,163,160,159,158,157,155,154,153,152,151,150,149,148,147,145,144,143,142,140,139,137,136,133,130,128,125,124,123,120,116,115,114,113,112,111,110,109,107,106,104,103,102,101,98,97,96,93,92,90,89,88,84,81,80,79,76,74,71,69,68,67,66,63,61,60,59,58,55,52,51,50,49,48,46,37,21,20,19,19]],\"y_values\":[[0.0,13.54,13.08,9.504,13.03,8.196,12.05,13.49,11.76,13.64,11.94,11.52,13.05,8.618,10.17,8.597999999999999,9.173,9.465,11.31,9.029,12.78,8.888,12.31,13.53,12.86,11.45,13.34,12.0,12.36,14.64,14.62,13.27,13.45,12.18,9.787,11.6,6.981,12.18,9.876,10.49,11.64,12.36,11.34,9.777000000000001,12.63,14.26,10.51,8.726,11.93,8.95,11.41,14.5,13.37,13.85,15.1,12.19,15.71,11.71,11.43,11.28,9.738,11.43,12.9,10.75,11.9,14.95,14.44,13.74,13.0,8.219,9.731,11.15,13.15,12.25,16.84,12.06,10.9,11.75,12.34,14.97,10.8,14.97,12.32,11.08,10.66,8.671,9.904,13.01,12.81,11.41,10.08,11.71,11.81,12.3,12.77,9.72,12.91,12.23,12.47,9.876,13.11,15.27,11.84,11.89,10.2,13.65,13.56,10.18,13.27,14.34,10.44,15.0,12.62,11.32,11.22,9.567,14.03,14.22,13.64,12.42,11.3,13.75,10.48,13.2,12.89,10.65,11.52,11.5,10.6,13.59,12.87,10.71,14.29,11.29,9.742,11.89,11.33,13.59,13.85,11.74,12.89,12.58,11.94,12.89,11.26,11.37,14.41,14.96,12.95,11.85,12.72,13.77,10.91,14.26,10.51,12.46,10.49,11.46,11.6,13.2,9.0,13.5,13.05,11.7,14.61,12.76,11.54,8.597000000000001,12.49,12.18,9.042,12.43,10.25,12.86,12.2,12.67,14.11,12.03,12.98,11.22,11.25,12.3,12.99,10.05,14.42,9.606,11.06,11.71,10.26,12.06,14.76,11.47,11.95,11.66,11.14,12.56,13.05,13.87,8.878,9.436,12.54,13.3,12.76,16.5,13.4,12.21,15.19,13.69,16.17,10.57,13.46,13.66,11.27,11.04,12.05,12.39,13.28,12.21,13.88,11.27,10.26,8.734,12.1,14.06,13.51,12.8,11.06,11.8,11.93,12.96,12.94,12.34,10.94,16.14,12.85,12.27,11.36,11.04,9.397,14.99,11.89,9.405,12.7,11.16,11.57,14.69,11.61,13.66,9.742,10.03,10.48,10.8,11.13,12.72,12.4,14.86,12.87,14.04,13.85,14.02,10.97,13.78,10.57,11.99,14.8,14.53,11.87,12.0,14.53,12.62,13.38,11.63,13.21,13.0,9.755,14.4,11.6,13.17,13.24,13.14,9.668,11.62,9.667,12.04,14.92,12.27,10.88,12.83,14.2,13.9,11.49,12.16,13.9,13.47,13.7,15.73,12.45,14.64,11.68,12.25,17.85,12.46,13.16,14.87,12.65,12.47,15.04,12.54,9.267999999999999,9.676,12.22,11.06,16.3,11.74,14.81,14.58,11.34,12.88,12.75,9.295,11.26,13.71,9.847000000000001,8.571,13.46,12.34,13.94,12.07,11.75,11.67,13.68,10.96,11.69,7.729,7.691,11.54,14.47,14.74,13.21,13.87,13.62,10.32,10.26,9.683,10.82,10.86,11.13,12.77,9.333,12.88,10.29,10.16,9.423,14.59,11.51,14.05,11.2,7.76,0.0,0.0,0.0,0.0,0.0,0.0,0.0,0.0,0.0,0.0,0.0,0.0,0.0,0.0,0.0,0.0,0.0,0.0,0.0,0.0,0.0,0.0,0.0,0.0,0.0,0.0,0.0,0.0,0.0,0.0,0.0,0.0,0.0,0.0,0.0,0.0,0.0,0.0,0.0,0.0,0.0,0.0,0.0,0.0,0.0,0.0,0.0,0.0,0.0,0.0,0.0,0.0,0.0,0.0,0.0,0.0,0.0,0.0,0.0,0.0,0.0,0.0,0.0,0.0,0.0,0.0,0.0,0.0,0.0,0.0,0.0,0.0,0.0,0.0,0.0,0.0,0.0,0.0,0.0,0.0,0.0,0.0,0.0,0.0,0.0,0.0,0.0,0.0,0.0,0.0,0.0,0.0,0.0,0.0,0.0,0.0,0.0,0.0,0.0,0.0,0.0,0.0,0.0,0.0,0.0,0.0,0.0,0.0,0.0,0.0,0.0,0.0,0.0,0.0,0.0,0.0,0.0,0.0,0.0,0.0,0.0,0.0,0.0,0.0,0.0,0.0,0.0,0.0,0.0,0.0,0.0,0.0,0.0,0.0,0.0,0.0,0.0,0.0,0.0,0.0,0.0,0.0,0.0,0.0,0.0,0.0,0.0,0.0,0.0,0.0,0.0,0.0,0.0,0.0,0.0,0.0,0.0,0.0,0.0,0.0,0.0,0.0,0.0,0.0,0.0,0.0,0.0,0.0,0.0,0.0,0.0,0.0,0.0,0.0,0.0,0.0,0.0,0.0,0.0,0.0,0.0,0.0,0.0,0.0,0.0,0.0,0.0,0.0,0.0,0.0,0.0,0.0,0.0,0.0,0.0,0.0,0.0,0.0,0.0,0.0,0.0,0.0,0.0,0.0,0.0,0.0,0.0,0.0,0.0,0.0,0.0,0.0,0.0,0.0,0.0,0.0,0.0,0.0,0.0,0.0,0.0,0.0,0.0,0.0,0.0,0.0,0.0,0.0,0.0,0.0,0.0,0.0,0.0,0.0,0.0,0.0,0.0,0.0,0.0,0.0,0.0,0.0,0.0,0.0,0.0,0.0,0.0,0.0,0.0,0.0,0.0,0.0,0.0,0.0,0.0,0.0,0.0,0.0,0.0,0.0,0.0,0.0,0.0,0.0,0.0,0.0,0.0,0.0,0.0,0.0,0.0,0.0,0.0,0.0,0.0,0.0,0.0,0.0,0.0,0.0,0.0,0.0,0.0,0.0,0.0,0.0,0.0,0.0,0.0,0.0,0.0,0.0,0.0,0.0,0.0,0.0,0.0,0.0,0.0,0.0,0.0,0.0,0.0,0.0,0.0,0.0,0.0,0.0,0.0,0.0,0.0,0.0,0.0,0.0,0.0,0.0,0.0,0.0,0.0,0.0,0.0,0.0,0.0,0.0,0.0,0.0,0.0,0.0,0.0,0.0,0.0,0.0,0.0,0.0,0.0,0.0,0.0,0.0,0.0,0.0,0.0,0.0,0.0,0.0,0.0,0.0,0.0,0.0,0.0,0.0,0.0,0.0,0.0,0.0,0.0,0.0,0.0,0.0,0.0,0.0]]}},\"id\":\"f499e955-f66a-4edc-9600-541279402856\",\"type\":\"ColumnDataSource\"},{\"attributes\":{\"callback\":null,\"end\":30.921,\"start\":-2.811},\"id\":\"f28e30a2-6680-459a-bc57-79717420d5a2\",\"type\":\"Range1d\"},{\"attributes\":{},\"id\":\"4c681740-830c-4e90-a53c-b1d2fb5bfc05\",\"type\":\"ToolEvents\"},{\"attributes\":{\"fill_alpha\":{\"value\":0.8},\"fill_color\":{\"value\":\"#f22c40\"},\"line_color\":{\"value\":\"#f22c40\"},\"xs\":{\"field\":\"x_values\"},\"ys\":{\"field\":\"y_values\"}},\"id\":\"ad5333e9-86e3-4220-a8b9-e12a525ed558\",\"type\":\"Patches\"},{\"attributes\":{\"plot\":null,\"text\":\"Radius mean for benign case\"},\"id\":\"b21cabbc-669f-4001-aee0-1f3eeb9657ff\",\"type\":\"Title\"},{\"attributes\":{},\"id\":\"0f41cb18-d921-42d2-a77b-a23f00a3f79d\",\"type\":\"BasicTickFormatter\"},{\"attributes\":{\"fill_alpha\":{\"value\":0.8},\"fill_color\":{\"value\":\"#f22c40\"},\"line_color\":{\"value\":\"#f22c40\"},\"xs\":{\"field\":\"x_values\"},\"ys\":{\"field\":\"y_values\"}},\"id\":\"97791b99-e165-4813-bba4-fecfad271209\",\"type\":\"Patches\"},{\"attributes\":{},\"id\":\"85f0f81a-5b5c-418f-92d7-fd583d53e396\",\"type\":\"BasicTicker\"},{\"attributes\":{\"callback\":null,\"end\":19.635,\"start\":-1.7850000000000001},\"id\":\"7b2d4381-0acf-4228-b9e3-9ffe67857f75\",\"type\":\"Range1d\"},{\"attributes\":{\"dimension\":1,\"plot\":{\"id\":\"477c39d5-f2ee-4ceb-b113-f3c87cb2e483\",\"subtype\":\"Chart\",\"type\":\"Plot\"},\"ticker\":{\"id\":\"df100a84-b515-4dad-8d44-79f1bb2e4125\",\"type\":\"BasicTicker\"}},\"id\":\"176a13b9-a2f7-4efc-937c-637a0c4ab889\",\"type\":\"Grid\"},{\"attributes\":{\"plot\":{\"id\":\"06581b4a-33ee-406b-afc2-34f6ec9b3c3a\",\"subtype\":\"Chart\",\"type\":\"Plot\"}},\"id\":\"46c36e54-1c76-4ac3-b54f-7ecd01445719\",\"type\":\"ResetTool\"},{\"attributes\":{},\"id\":\"9651ebed-2b44-4c82-b693-b58c903076b4\",\"type\":\"BasicTicker\"},{\"attributes\":{\"axis_label\":\"index\",\"formatter\":{\"id\":\"3c4a4bcc-6eed-4a4c-9c46-d514e7c3044d\",\"type\":\"BasicTickFormatter\"},\"plot\":{\"id\":\"477c39d5-f2ee-4ceb-b113-f3c87cb2e483\",\"subtype\":\"Chart\",\"type\":\"Plot\"},\"ticker\":{\"id\":\"304ceab0-c378-4789-866f-b4d0f85512b7\",\"type\":\"BasicTicker\"}},\"id\":\"3a827ccb-9f76-47d1-b58e-44ae7cc7bbcb\",\"type\":\"LinearAxis\"},{\"attributes\":{\"data_source\":{\"id\":\"013ff682-2103-4d05-aeae-a70070dfcc97\",\"type\":\"ColumnDataSource\"},\"glyph\":{\"id\":\"97791b99-e165-4813-bba4-fecfad271209\",\"type\":\"Patches\"},\"hover_glyph\":null,\"nonselection_glyph\":null,\"selection_glyph\":null},\"id\":\"ce482de5-4a82-4e9d-bdbb-4c2630facf4f\",\"type\":\"GlyphRenderer\"},{\"attributes\":{},\"id\":\"304ceab0-c378-4789-866f-b4d0f85512b7\",\"type\":\"BasicTicker\"},{\"attributes\":{\"plot\":{\"id\":\"06581b4a-33ee-406b-afc2-34f6ec9b3c3a\",\"subtype\":\"Chart\",\"type\":\"Plot\"}},\"id\":\"c3c308bb-d419-4b3d-bfb6-fbbf50eaddaa\",\"type\":\"PanTool\"},{\"attributes\":{\"plot\":{\"id\":\"477c39d5-f2ee-4ceb-b113-f3c87cb2e483\",\"subtype\":\"Chart\",\"type\":\"Plot\"}},\"id\":\"56b40bf9-79b3-46be-bdd5-3b2e1fef54d2\",\"type\":\"WheelZoomTool\"},{\"attributes\":{\"overlay\":{\"id\":\"23521ed7-defb-4c74-93ab-4ad47dd3ffe2\",\"type\":\"BoxAnnotation\"},\"plot\":{\"id\":\"06581b4a-33ee-406b-afc2-34f6ec9b3c3a\",\"subtype\":\"Chart\",\"type\":\"Plot\"}},\"id\":\"05867b85-5cf8-4cf2-aa5e-fe50c3849758\",\"type\":\"BoxZoomTool\"},{\"attributes\":{\"bottom_units\":\"screen\",\"fill_alpha\":{\"value\":0.5},\"fill_color\":{\"value\":\"lightgrey\"},\"left_units\":\"screen\",\"level\":\"overlay\",\"line_alpha\":{\"value\":1.0},\"line_color\":{\"value\":\"black\"},\"line_dash\":[4,4],\"line_width\":{\"value\":2},\"plot\":null,\"render_mode\":\"css\",\"right_units\":\"screen\",\"top_units\":\"screen\"},\"id\":\"23521ed7-defb-4c74-93ab-4ad47dd3ffe2\",\"type\":\"BoxAnnotation\"},{\"attributes\":{},\"id\":\"3c4a4bcc-6eed-4a4c-9c46-d514e7c3044d\",\"type\":\"BasicTickFormatter\"}],\"root_ids\":[\"34a08b36-bd04-4137-99ee-2a9f2f532d7b\"]},\"title\":\"Bokeh Application\",\"version\":\"0.12.2\"}};\n",
       "            var render_items = [{\"docid\":\"ec562831-a3fb-43f9-b6bf-d6bc3056ee09\",\"elementid\":\"38b51bb3-c3f3-4e35-8c86-bb5f960df982\",\"modelid\":\"34a08b36-bd04-4137-99ee-2a9f2f532d7b\"}];\n",
       "            \n",
       "            Bokeh.embed.embed_items(docs_json, render_items);\n",
       "        });\n",
       "      },\n",
       "      function(Bokeh) {\n",
       "      }\n",
       "    ];\n",
       "  \n",
       "    function run_inline_js() {\n",
       "      \n",
       "      if ((window.Bokeh !== undefined) || (force === \"1\")) {\n",
       "        for (var i = 0; i < inline_js.length; i++) {\n",
       "          inline_js[i](window.Bokeh);\n",
       "        }if (force === \"1\") {\n",
       "          display_loaded();\n",
       "        }} else if (Date.now() < window._bokeh_timeout) {\n",
       "        setTimeout(run_inline_js, 100);\n",
       "      } else if (!window._bokeh_failed_load) {\n",
       "        console.log(\"Bokeh: BokehJS failed to load within specified timeout.\");\n",
       "        window._bokeh_failed_load = true;\n",
       "      } else if (!force) {\n",
       "        var cell = $(\"#38b51bb3-c3f3-4e35-8c86-bb5f960df982\").parents('.cell').data().cell;\n",
       "        cell.output_area.append_execute_result(NB_LOAD_WARNING)\n",
       "      }\n",
       "  \n",
       "    }\n",
       "  \n",
       "    if (window._bokeh_is_loading === 0) {\n",
       "      console.log(\"Bokeh: BokehJS loaded, going straight to plotting\");\n",
       "      run_inline_js();\n",
       "    } else {\n",
       "      load_libs(js_urls, function() {\n",
       "        console.log(\"Bokeh: BokehJS plotting callback run at\", now());\n",
       "        run_inline_js();\n",
       "      });\n",
       "    }\n",
       "  }(this));\n",
       "</script>"
      ]
     },
     "metadata": {},
     "output_type": "display_data"
    }
   ],
   "source": [
    "area1 = Area(malignant[features], title=\"Radius mean for malignant cases\", legend=\"top_left\",\n",
    "             stack=True)\n",
    "\n",
    "area2 = Area(benign[features], title=\"Radius mean for benign case\", legend=\"top_left\",\n",
    "             stack=True)\n",
    "\n",
    "show(row(area1, area2))"
   ]
  },
  {
   "cell_type": "code",
   "execution_count": 34,
   "metadata": {
    "collapsed": false
   },
   "outputs": [],
   "source": [
    "#grid = gridplot(area_charts, ncols=3, plot_width=300, plot_height=300)"
   ]
  },
  {
   "cell_type": "code",
   "execution_count": 13,
   "metadata": {
    "collapsed": false
   },
   "outputs": [],
   "source": [
    "import seaborn as sns"
   ]
  },
  {
   "cell_type": "code",
   "execution_count": 14,
   "metadata": {
    "collapsed": true
   },
   "outputs": [],
   "source": [
    "from bokeh import mpl"
   ]
  },
  {
   "cell_type": "code",
   "execution_count": 17,
   "metadata": {
    "collapsed": false
   },
   "outputs": [],
   "source": [
    "import lightning"
   ]
  },
  {
   "cell_type": "code",
   "execution_count": 18,
   "metadata": {
    "collapsed": false
   },
   "outputs": [],
   "source": [
    "from lightning import Lightning\n",
    "\n",
    "from numpy import random, asarray, sqrt, arctan2, pi, clip\n",
    "from seaborn import color_palette\n",
    "from sklearn import datasets\n",
    "from colorsys import hsv_to_rgb"
   ]
  },
  {
   "cell_type": "code",
   "execution_count": 20,
   "metadata": {
    "collapsed": false
   },
   "outputs": [
    {
     "data": {
      "text/html": [
       "<div style='margin-top:8px'><img src='data:image/png;base64,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' width='30px' height='35px' style='display: inline-block; padding-right: 10px'></img><span>Lightning initialized</span></div>"
      ],
      "text/plain": [
       "<IPython.core.display.HTML object>"
      ]
     },
     "metadata": {},
     "output_type": "display_data"
    },
    {
     "name": "stdout",
     "output_type": "stream",
     "text": [
      "Connected to server at http://public.lightning-viz.org\n"
     ]
    },
    {
     "data": {
      "application/javascript": [
       "(function e(t,n,r){function s(o,u){if(!n[o]){if(!t[o]){var a=typeof require==\"function\"&&require;if(!u&&a)return a(o,!0);if(i)return i(o,!0);throw new Error(\"Cannot find module '\"+o+\"'\")}var f=n[o]={exports:{}};t[o][0].call(f.exports,function(e){var n=t[o][1][e];return s(n?n:e)},f,f.exports,e,t,n,r)}return n[o].exports}var i=typeof require==\"function\"&&require;for(var o=0;o<r.length;o++)s(r[o]);return s})({1:[function(require,module,exports){\n",
       "window.lightning = window.lightning || {};\n",
       "var lightningCommMap = {};\n",
       "var IPython = window.IPython;\n",
       "\n",
       "var readCommData = function(commData, field) {\n",
       "    try {\n",
       "        return commData.content.data[field];\n",
       "    } catch (err) {\n",
       "        return;\n",
       "    }\n",
       "};\n",
       "\n",
       "\n",
       "var init_comm = function() {\n",
       "    IPython.notebook.kernel.comm_manager.register_target('lightning', function(comm, data) {\n",
       "        var id = readCommData(data, 'id');\n",
       "        lightningCommMap[id] = comm;\n",
       "    });\n",
       "\n",
       "    window.lightning.comm_map = lightningCommMap;\n",
       "}\n",
       "\n",
       "\n",
       "if(IPython && IPython.notebook) {\n",
       "\n",
       "    if(IPython.notebook.kernel) {\n",
       "        init_comm();\n",
       "    }\n",
       "\n",
       "    IPython.notebook.events.on('kernel_connected.Kernel', init_comm);\n",
       "\n",
       "}\n",
       "\n",
       "\n",
       "},{}]},{},[1])\n",
       "//# sourceMappingURL=data:application/json;base64,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\n"
      ],
      "text/plain": [
       "<IPython.core.display.Javascript object>"
      ]
     },
     "metadata": {},
     "output_type": "display_data"
    }
   ],
   "source": [
    "lgn = Lightning(ipython=True, host='http://public.lightning-viz.org')\n"
   ]
  },
  {
   "cell_type": "code",
   "execution_count": 27,
   "metadata": {
    "collapsed": false
   },
   "outputs": [
    {
     "data": {
      "text/html": [
       "<meta name=\"viewport\" content=\"width=device-width, initial-scale=1, maximum-scale=1\"/><meta http-equiv=\"X-UA-Compatible\" content=\"IE=10; IE=9; IE=8; IE=7; IE=EDGE\"/><meta charset=\"UTF-8\"/><link href=\"//fonts.googleapis.com/css?family=Open+Sans:400,700\" rel=\"stylesheet\" type=\"text/css\"/><link rel=\"stylesheet\" href=\"http://public.lightning-viz.org/css/app.css\"/><div id=\"lightning-body\" class=\"container content wrap push\"><div class=\"feed-container\"><div data-model=\"visualization\" data-model-id=\"248413c6-492d-4fe9-a8d6-7a5cc448470f\" class=\"feed-item-container\"><div data-type=\"lightning-scatter\" data-data=\"{&quot;alpha&quot;:[0.8],&quot;points&quot;:[[17.99,10.38],[20.57,17.77],[19.69,21.25],[11.42,20.38],[20.29,14.34],[12.45,15.7],[18.25,19.98],[13.71,20.83],[13,21.82],[12.46,24.04],[16.02,23.24],[15.78,17.89],[19.17,24.8],[15.85,23.95],[13.73,22.61],[14.54,27.54],[14.68,20.13],[16.13,20.68],[19.81,22.15],[13.54,14.36],[13.08,15.71],[9.504,12.44],[15.34,14.26],[21.16,23.04],[16.65,21.38],[17.14,16.4],[14.58,21.53],[18.61,20.25],[15.3,25.27],[17.57,15.05],[18.63,25.11],[11.84,18.7],[17.02,23.98],[19.27,26.47],[16.13,17.88],[16.74,21.59],[14.25,21.72],[13.03,18.42],[14.99,25.2],[13.48,20.82],[13.44,21.58],[10.95,21.35],[19.07,24.81],[13.28,20.28],[13.17,21.81],[18.65,17.6],[8.196,16.84],[13.17,18.66],[12.05,14.63],[13.49,22.3],[11.76,21.6],[13.64,16.34],[11.94,18.24],[18.22,18.7],[15.1,22.02],[11.52,18.75],[19.21,18.57],[14.71,21.59],[13.05,19.31],[8.618,11.79],[10.17,14.88],[8.597999999999999,20.98],[14.25,22.15],[9.173,13.86],[12.68,23.84],[14.78,23.94],[9.465,21.01],[11.31,19.04],[9.029,17.33],[12.78,16.49],[18.94,21.31],[8.888,14.64],[17.2,24.52],[13.8,15.79],[12.31,16.52],[16.07,19.65],[13.53,10.94],[18.05,16.15],[20.18,23.97],[12.86,18],[11.45,20.97],[13.34,15.86],[25.22,24.91],[19.1,26.29],[12,15.65],[18.46,18.52],[14.48,21.46],[19.02,24.59],[12.36,21.8],[14.64,15.24],[14.62,24.02],[15.37,22.76],[13.27,14.76],[13.45,18.3],[15.06,19.83],[20.26,23.03],[12.18,17.84],[9.787,19.94],[11.6,12.84],[14.42,19.77],[13.61,24.98],[6.981,13.43],[12.18,20.52],[9.876,19.4],[10.49,19.29],[13.11,15.56],[11.64,18.33],[12.36,18.54],[22.27,19.67],[11.34,21.26],[9.777000000000001,16.99],[12.63,20.76],[14.26,19.65],[10.51,20.19],[8.726,15.83],[11.93,21.53],[8.95,15.76],[14.87,16.67],[15.78,22.91],[17.95,20.01],[11.41,10.82],[18.66,17.12],[24.25,20.2],[14.5,10.89],[13.37,16.39],[13.85,17.21],[13.61,24.69],[19,18.91],[15.1,16.39],[19.79,25.12],[12.19,13.29],[15.46,19.48],[16.16,21.54],[15.71,13.93],[18.45,21.91],[12.77,22.47],[11.71,16.67],[11.43,15.39],[14.95,17.57],[11.28,13.39],[9.738,11.97],[16.11,18.05],[11.43,17.31],[12.9,15.92],[10.75,14.97],[11.9,14.65],[11.8,16.58],[14.95,18.77],[14.44,15.18],[13.74,17.91],[13,20.78],[8.219,20.7],[9.731,15.34],[11.15,13.08],[13.15,15.34],[12.25,17.94],[17.68,20.74],[16.84,19.46],[12.06,12.74],[10.9,12.96],[11.75,20.18],[19.19,15.94],[19.59,18.15],[12.34,22.22],[23.27,22.04],[14.97,19.76],[10.8,9.71],[16.78,18.8],[17.47,24.68],[14.97,16.95],[12.32,12.39],[13.43,19.63],[15.46,11.89],[11.08,14.71],[10.66,15.15],[8.671,14.45],[9.904,18.06],[16.46,20.11],[13.01,22.22],[12.81,13.06],[27.22,21.87],[21.09,26.57],[15.7,20.31],[11.41,14.92],[15.28,22.41],[10.08,15.11],[18.31,18.58],[11.71,17.19],[11.81,17.39],[12.3,15.9],[14.22,23.12],[12.77,21.41],[9.72,18.22],[12.34,26.86],[14.86,23.21],[12.91,16.33],[13.77,22.29],[18.08,21.84],[19.18,22.49],[14.45,20.22],[12.23,19.56],[17.54,19.32],[23.29,26.67],[13.81,23.75],[12.47,18.6],[15.12,16.68],[9.876,17.27],[17.01,20.26],[13.11,22.54],[15.27,12.91],[20.58,22.14],[11.84,18.94],[28.11,18.47],[17.42,25.56],[14.19,23.81],[13.86,16.93],[11.89,18.35],[10.2,17.48],[19.8,21.56],[19.53,32.47],[13.65,13.16],[13.56,13.9],[10.18,17.53],[15.75,20.25],[13.27,17.02],[14.34,13.47],[10.44,15.46],[15,15.51],[12.62,23.97],[12.83,22.33],[17.05,19.08],[11.32,27.08],[11.22,33.81],[20.51,27.81],[9.567,15.91],[14.03,21.25],[23.21,26.97],[20.48,21.46],[14.22,27.85],[17.46,39.28],[13.64,15.6],[12.42,15.04],[11.3,18.19],[13.75,23.77],[19.4,23.5],[10.48,19.86],[13.2,17.43],[12.89,14.11],[10.65,25.22],[11.52,14.93],[20.94,23.56],[11.5,18.45],[19.73,19.82],[17.3,17.08],[19.45,19.33],[13.96,17.05],[19.55,28.77],[15.32,17.27],[15.66,23.2],[15.53,33.56],[20.31,27.06],[17.35,23.06],[17.29,22.13],[15.61,19.38],[17.19,22.07],[20.73,31.12],[10.6,18.95],[13.59,21.84],[12.87,16.21],[10.71,20.39],[14.29,16.82],[11.29,13.04],[21.75,20.99],[9.742,15.67],[17.93,24.48],[11.89,17.36],[11.33,14.16],[18.81,19.98],[13.59,17.84],[13.85,15.18],[19.16,26.6],[11.74,14.02],[19.4,18.18],[16.24,18.77],[12.89,15.7],[12.58,18.4],[11.94,20.76],[12.89,13.12],[11.26,19.96],[11.37,18.89],[14.41,19.73],[14.96,19.1],[12.95,16.02],[11.85,17.46],[12.72,13.78],[13.77,13.27],[10.91,12.35],[11.76,18.14],[14.26,18.17],[10.51,23.09],[19.53,18.9],[12.46,19.89],[20.09,23.86],[10.49,18.61],[11.46,18.16],[11.6,24.49],[13.2,15.82],[9,14.4],[13.5,12.71],[13.05,13.84],[11.7,19.11],[14.61,15.69],[12.76,13.37],[11.54,10.72],[8.597000000000001,18.6],[12.49,16.85],[12.18,14.08],[18.22,18.87],[9.042,18.9],[12.43,17],[10.25,16.18],[20.16,19.66],[12.86,13.32],[20.34,21.51],[12.2,15.21],[12.67,17.3],[14.11,12.88],[12.03,17.93],[16.27,20.71],[16.26,21.88],[16.03,15.51],[12.98,19.35],[11.22,19.86],[11.25,14.78],[12.3,19.02],[17.06,21],[12.99,14.23],[18.77,21.43],[10.05,17.53],[23.51,24.27],[14.42,16.54],[9.606,16.84],[11.06,14.96],[19.68,21.68],[11.71,15.45],[10.26,14.71],[12.06,18.9],[14.76,14.74],[11.47,16.03],[11.95,14.96],[11.66,17.07],[15.75,19.22],[25.73,17.46],[15.08,25.74],[11.14,14.07],[12.56,19.07],[13.05,18.59],[13.87,16.21],[8.878,15.49],[9.436,18.32],[12.54,18.07],[13.3,21.57],[12.76,18.84],[16.5,18.29],[13.4,16.95],[20.44,21.78],[20.2,26.83],[12.21,18.02],[21.71,17.25],[22.01,21.9],[16.35,23.29],[15.19,13.21],[21.37,15.1],[20.64,17.35],[13.69,16.07],[16.17,16.07],[10.57,20.22],[13.46,28.21],[13.66,15.15],[11.08,18.83],[11.27,12.96],[11.04,14.93],[12.05,22.72],[12.39,17.48],[13.28,13.72],[14.6,23.29],[12.21,14.09],[13.88,16.16],[11.27,15.5],[19.55,23.21],[10.26,12.22],[8.734,16.84],[15.49,19.97],[21.61,22.28],[12.1,17.72],[14.06,17.18],[13.51,18.89],[12.8,17.46],[11.06,14.83],[11.8,17.26],[17.91,21.02],[11.93,10.91],[12.96,18.29],[12.94,16.17],[12.34,14.95],[10.94,18.59],[16.14,14.86],[12.85,21.37],[17.99,20.66],[12.27,17.92],[11.36,17.57],[11.04,16.83],[9.397,21.68],[14.99,22.11],[15.13,29.81],[11.89,21.17],[9.405,21.7],[15.5,21.08],[12.7,12.17],[11.16,21.41],[11.57,19.04],[14.69,13.98],[11.61,16.02],[13.66,19.13],[9.742,19.12],[10.03,21.28],[10.48,14.98],[10.8,21.98],[11.13,16.62],[12.72,17.67],[14.9,22.53],[12.4,17.68],[20.18,19.54],[18.82,21.97],[14.86,16.94],[13.98,19.62],[12.87,19.54],[14.04,15.98],[13.85,19.6],[14.02,15.66],[10.97,17.2],[17.27,25.42],[13.78,15.79],[10.57,18.32],[18.03,16.85],[11.99,24.89],[17.75,28.03],[14.8,17.66],[14.53,19.34],[21.1,20.52],[11.87,21.54],[19.59,25],[12,28.23],[14.53,13.98],[12.62,17.15],[13.38,30.72],[11.63,29.29],[13.21,25.25],[13,25.13],[9.755,28.2],[17.08,27.15],[27.42,26.27],[14.4,26.99],[11.6,18.36],[13.17,18.22],[13.24,20.13],[13.14,20.74],[9.668,18.1],[17.6,23.33],[11.62,18.18],[9.667,18.49],[12.04,28.14],[14.92,14.93],[12.27,29.97],[10.88,15.62],[12.83,15.73],[14.2,20.53],[13.9,16.62],[11.49,14.59],[16.25,19.51],[12.16,18.03],[13.9,19.24],[13.47,14.06],[13.7,17.64],[15.73,11.28],[12.45,16.41],[14.64,16.85],[19.44,18.82],[11.68,16.17],[16.69,20.2],[12.25,22.44],[17.85,13.23],[18.01,20.56],[12.46,12.83],[13.16,20.54],[14.87,20.21],[12.65,18.17],[12.47,17.31],[18.49,17.52],[20.59,21.24],[15.04,16.74],[13.82,24.49],[12.54,16.32],[23.09,19.83],[9.267999999999999,12.87],[9.676,13.14],[12.22,20.04],[11.06,17.12],[16.3,15.7],[15.46,23.95],[11.74,14.69],[14.81,14.7],[13.4,20.52],[14.58,13.66],[15.05,19.07],[11.34,18.61],[18.31,20.58],[19.89,20.26],[12.88,18.22],[12.75,16.7],[9.295,13.9],[24.63,21.6],[11.26,19.83],[13.71,18.68],[9.847000000000001,15.68],[8.571,13.1],[13.46,18.75],[12.34,12.27],[13.94,13.17],[12.07,13.44],[11.75,17.56],[11.67,20.02],[13.68,16.33],[20.47,20.67],[10.96,17.62],[20.55,20.86],[14.27,22.55],[11.69,24.44],[7.729,25.49],[7.691,25.44],[11.54,14.44],[14.47,24.99],[14.74,25.42],[13.21,28.06],[13.87,20.7],[13.62,23.23],[10.32,16.35],[10.26,16.58],[9.683,19.34],[10.82,24.21],[10.86,21.48],[11.13,22.44],[12.77,29.43],[9.333,21.94],[12.88,28.92],[10.29,27.61],[10.16,19.59],[9.423,27.88],[14.59,22.68],[11.51,23.93],[14.05,27.15],[11.2,29.37],[15.22,30.62],[20.92,25.09],[21.56,22.39],[20.13,28.25],[16.6,28.08],[20.6,29.33],[7.76,24.54]],&quot;group&quot;:[1,1,1,1,1,1,1,1,1,1,1,1,1,1,1,1,1,1,1,0,0,0,1,1,1,1,1,1,1,1,1,1,1,1,1,1,1,0,1,1,1,1,1,1,1,1,0,1,0,0,0,0,0,1,1,0,1,1,0,0,0,0,1,0,1,1,0,0,0,0,1,0,1,1,0,1,0,1,1,0,0,0,1,1,0,1,1,1,0,0,0,1,0,0,1,1,0,0,0,1,1,0,0,0,0,1,0,0,1,0,0,0,0,0,0,0,0,1,1,1,0,1,1,0,0,0,1,1,0,1,0,1,1,0,1,1,0,0,1,0,0,1,0,0,0,0,1,0,0,0,0,0,0,0,0,0,1,0,0,0,0,1,1,0,1,0,0,1,1,0,0,1,1,0,0,0,0,1,0,0,1,1,1,0,1,0,1,0,0,0,1,0,0,1,1,0,1,1,1,1,0,1,1,1,0,1,0,1,0,0,1,0,1,1,1,1,0,0,1,1,0,0,0,1,0,0,0,0,0,1,1,0,0,1,0,0,1,1,0,1,0,0,0,0,1,0,0,0,0,0,1,0,1,1,1,1,1,1,1,1,1,1,1,1,1,1,0,0,0,0,0,0,1,0,1,0,0,1,0,0,1,0,1,1,0,0,0,0,0,0,0,0,0,0,0,0,0,1,0,0,1,0,1,0,0,0,0,0,0,0,0,0,0,0,0,0,0,1,0,0,0,1,0,1,0,0,0,0,1,1,1,0,0,0,0,1,0,1,0,1,0,0,0,1,0,0,0,0,0,0,0,1,1,1,0,0,0,0,0,0,0,0,0,0,0,1,1,0,1,1,1,0,1,1,0,0,0,0,0,1,0,0,0,0,0,1,0,0,0,1,0,0,1,1,0,0,0,0,0,0,1,0,0,0,0,0,0,0,1,0,0,0,0,0,1,0,0,1,0,0,0,0,0,0,0,0,0,0,0,0,1,0,1,1,0,1,0,0,0,0,0,1,0,0,1,0,1,0,0,1,0,1,0,0,0,0,0,0,0,0,1,1,0,0,0,0,0,0,1,0,0,0,0,0,0,0,0,0,0,1,0,0,0,0,0,0,0,1,0,1,0,0,1,0,0,0,0,0,1,1,0,1,0,1,0,0,0,0,0,1,0,0,1,0,1,0,1,1,0,0,0,1,0,0,0,0,0,0,0,0,0,0,0,1,0,1,1,0,0,0,0,0,0,0,0,0,0,0,0,0,0,0,0,0,0,0,0,0,0,0,0,0,1,1,1,1,1,1,0],&quot;size&quot;:[12]}\" data-images=\"null\" data-options=\"{&quot;tooltips&quot;:true,&quot;description&quot;:null,&quot;zoom&quot;:true,&quot;height&quot;:null,&quot;width&quot;:600,&quot;brush&quot;:true}\" id=\"viz-248413c6-492d-4fe9-a8d6-7a5cc448470f\" data-initialized=\"false\" class=\"feed-item\"></div></div></div></div><script>window.lightning = window.lightning || {};\n",
       "window.lightning.host = \"http://public.lightning-viz.org/\" || 'http://127.0.0.1:3000/';\n",
       "window.lightning.vizCount = (window.lightning.vizCount + 1) || 1;\n",
       "window.lightning.requiredVizTypes = window.lightning.requiredVizTypes || [];\n",
       "if(window.lightning.requiredVizTypes.indexOf(\"scatter\") === -1) {\n",
       "    window.lightning.requiredVizTypes.push(\"scatter\");\n",
       "}\n",
       "window._require = window.require;\n",
       "window.require = undefined;\n",
       "window._define = window.define;\n",
       "window.define = undefined;</script><script src=\"http://public.lightning-viz.org/js/embed.js\"></script>"
      ],
      "text/plain": [
       "<lightning.types.plots.Scatter at 0x11946af90>"
      ]
     },
     "execution_count": 27,
     "metadata": {},
     "output_type": "execute_result"
    }
   ],
   "source": [
    "lgn.scatter(data['radius_mean'], data['texture_mean'], group=data['diagnosis'], alpha=0.8, size=12)"
   ]
  },
  {
   "cell_type": "code",
   "execution_count": 29,
   "metadata": {
    "collapsed": false
   },
   "outputs": [],
   "source": [
    "\n",
    "from lightning import Lightning\n",
    "\n",
    "from numpy import random, asarray, arange\n",
    "from sklearn import datasets\n",
    "from scipy.ndimage.filters import gaussian_filter\n",
    "from seaborn import color_palette"
   ]
  },
  {
   "cell_type": "code",
   "execution_count": 38,
   "metadata": {
    "collapsed": false
   },
   "outputs": [
    {
     "data": {
      "text/html": [
       "<meta name=\"viewport\" content=\"width=device-width, initial-scale=1, maximum-scale=1\"/><meta http-equiv=\"X-UA-Compatible\" content=\"IE=10; IE=9; IE=8; IE=7; IE=EDGE\"/><meta charset=\"UTF-8\"/><link href=\"//fonts.googleapis.com/css?family=Open+Sans:400,700\" rel=\"stylesheet\" type=\"text/css\"/><link rel=\"stylesheet\" href=\"http://public.lightning-viz.org/css/app.css\"/><div id=\"lightning-body\" class=\"container content wrap push\"><div class=\"feed-container\"><div data-model=\"visualization\" data-model-id=\"15d4f698-55f0-4682-8f02-9098b5a6e6d2\" class=\"feed-item-container\"><div data-type=\"lightning-line\" data-data=\"{&quot;series&quot;:[17.99,20.57,19.69,11.42,20.29,12.45,18.25,13.71,13,12.46,16.02,15.78,19.17,15.85,13.73,14.54,14.68,16.13,19.81,13.54,13.08,9.504,15.34,21.16,16.65,17.14,14.58,18.61,15.3,17.57,18.63,11.84,17.02,19.27,16.13,16.74,14.25,13.03,14.99,13.48,13.44,10.95,19.07,13.28,13.17,18.65,8.196,13.17,12.05,13.49,11.76,13.64,11.94,18.22,15.1,11.52,19.21,14.71,13.05,8.618,10.17,8.597999999999999,14.25,9.173,12.68,14.78,9.465,11.31,9.029,12.78,18.94,8.888,17.2,13.8,12.31,16.07,13.53,18.05,20.18,12.86,11.45,13.34,25.22,19.1,12,18.46,14.48,19.02,12.36,14.64,14.62,15.37,13.27,13.45,15.06,20.26,12.18,9.787,11.6,14.42,13.61,6.981,12.18,9.876,10.49,13.11,11.64,12.36,22.27,11.34,9.777000000000001,12.63,14.26,10.51,8.726,11.93,8.95,14.87,15.78,17.95,11.41,18.66,24.25,14.5,13.37,13.85,13.61,19,15.1,19.79,12.19,15.46,16.16,15.71,18.45,12.77,11.71,11.43,14.95,11.28,9.738,16.11,11.43,12.9,10.75,11.9,11.8,14.95,14.44,13.74,13,8.219,9.731,11.15,13.15,12.25,17.68,16.84,12.06,10.9,11.75,19.19,19.59,12.34,23.27,14.97,10.8,16.78,17.47,14.97,12.32,13.43,15.46,11.08,10.66,8.671,9.904,16.46,13.01,12.81,27.22,21.09,15.7,11.41,15.28,10.08,18.31,11.71,11.81,12.3,14.22,12.77,9.72,12.34,14.86,12.91,13.77,18.08,19.18,14.45,12.23,17.54,23.29,13.81,12.47,15.12,9.876,17.01,13.11,15.27,20.58,11.84,28.11,17.42,14.19,13.86,11.89,10.2,19.8,19.53,13.65,13.56,10.18,15.75,13.27,14.34,10.44,15,12.62,12.83,17.05,11.32,11.22,20.51,9.567,14.03,23.21,20.48,14.22,17.46,13.64,12.42,11.3,13.75,19.4,10.48,13.2,12.89,10.65,11.52,20.94,11.5,19.73,17.3,19.45,13.96,19.55,15.32,15.66,15.53,20.31,17.35,17.29,15.61,17.19,20.73,10.6,13.59,12.87,10.71,14.29,11.29,21.75,9.742,17.93,11.89,11.33,18.81,13.59,13.85,19.16,11.74,19.4,16.24,12.89,12.58,11.94,12.89,11.26,11.37,14.41,14.96,12.95,11.85,12.72,13.77,10.91,11.76,14.26,10.51,19.53,12.46,20.09,10.49,11.46,11.6,13.2,9,13.5,13.05,11.7,14.61,12.76,11.54,8.597000000000001,12.49,12.18,18.22,9.042,12.43,10.25,20.16,12.86,20.34,12.2,12.67,14.11,12.03,16.27,16.26,16.03,12.98,11.22,11.25,12.3,17.06,12.99,18.77,10.05,23.51,14.42,9.606,11.06,19.68,11.71,10.26,12.06,14.76,11.47,11.95,11.66,15.75,25.73,15.08,11.14,12.56,13.05,13.87,8.878,9.436,12.54,13.3,12.76,16.5,13.4,20.44,20.2,12.21,21.71,22.01,16.35,15.19,21.37,20.64,13.69,16.17,10.57,13.46,13.66,11.08,11.27,11.04,12.05,12.39,13.28,14.6,12.21,13.88,11.27,19.55,10.26,8.734,15.49,21.61,12.1,14.06,13.51,12.8,11.06,11.8,17.91,11.93,12.96,12.94,12.34,10.94,16.14,12.85,17.99,12.27,11.36,11.04,9.397,14.99,15.13,11.89,9.405,15.5,12.7,11.16,11.57,14.69,11.61,13.66,9.742,10.03,10.48,10.8,11.13,12.72,14.9,12.4,20.18,18.82,14.86,13.98,12.87,14.04,13.85,14.02,10.97,17.27,13.78,10.57,18.03,11.99,17.75,14.8,14.53,21.1,11.87,19.59,12,14.53,12.62,13.38,11.63,13.21,13,9.755,17.08,27.42,14.4,11.6,13.17,13.24,13.14,9.668,17.6,11.62,9.667,12.04,14.92,12.27,10.88,12.83,14.2,13.9,11.49,16.25,12.16,13.9,13.47,13.7,15.73,12.45,14.64,19.44,11.68,16.69,12.25,17.85,18.01,12.46,13.16,14.87,12.65,12.47,18.49,20.59,15.04,13.82,12.54,23.09,9.267999999999999,9.676,12.22,11.06,16.3,15.46,11.74,14.81,13.4,14.58,15.05,11.34,18.31,19.89,12.88,12.75,9.295,24.63,11.26,13.71,9.847000000000001,8.571,13.46,12.34,13.94,12.07,11.75,11.67,13.68,20.47,10.96,20.55,14.27,11.69,7.729,7.691,11.54,14.47,14.74,13.21,13.87,13.62,10.32,10.26,9.683,10.82,10.86,11.13,12.77,9.333,12.88,10.29,10.16,9.423,14.59,11.51,14.05,11.2,15.22,20.92,21.56,20.13,16.6,20.6,7.76],&quot;group&quot;:[1,1,1,1,1,1,1,1,1,1,1,1,1,1,1,1,1,1,1,0,0,0,1,1,1,1,1,1,1,1,1,1,1,1,1,1,1,0,1,1,1,1,1,1,1,1,0,1,0,0,0,0,0,1,1,0,1,1,0,0,0,0,1,0,1,1,0,0,0,0,1,0,1,1,0,1,0,1,1,0,0,0,1,1,0,1,1,1,0,0,0,1,0,0,1,1,0,0,0,1,1,0,0,0,0,1,0,0,1,0,0,0,0,0,0,0,0,1,1,1,0,1,1,0,0,0,1,1,0,1,0,1,1,0,1,1,0,0,1,0,0,1,0,0,0,0,1,0,0,0,0,0,0,0,0,0,1,0,0,0,0,1,1,0,1,0,0,1,1,0,0,1,1,0,0,0,0,1,0,0,1,1,1,0,1,0,1,0,0,0,1,0,0,1,1,0,1,1,1,1,0,1,1,1,0,1,0,1,0,0,1,0,1,1,1,1,0,0,1,1,0,0,0,1,0,0,0,0,0,1,1,0,0,1,0,0,1,1,0,1,0,0,0,0,1,0,0,0,0,0,1,0,1,1,1,1,1,1,1,1,1,1,1,1,1,1,0,0,0,0,0,0,1,0,1,0,0,1,0,0,1,0,1,1,0,0,0,0,0,0,0,0,0,0,0,0,0,1,0,0,1,0,1,0,0,0,0,0,0,0,0,0,0,0,0,0,0,1,0,0,0,1,0,1,0,0,0,0,1,1,1,0,0,0,0,1,0,1,0,1,0,0,0,1,0,0,0,0,0,0,0,1,1,1,0,0,0,0,0,0,0,0,0,0,0,1,1,0,1,1,1,0,1,1,0,0,0,0,0,1,0,0,0,0,0,1,0,0,0,1,0,0,1,1,0,0,0,0,0,0,1,0,0,0,0,0,0,0,1,0,0,0,0,0,1,0,0,1,0,0,0,0,0,0,0,0,0,0,0,0,1,0,1,1,0,1,0,0,0,0,0,1,0,0,1,0,1,0,0,1,0,1,0,0,0,0,0,0,0,0,1,1,0,0,0,0,0,0,1,0,0,0,0,0,0,0,0,0,0,1,0,0,0,0,0,0,0,1,0,1,0,0,1,0,0,0,0,0,1,1,0,1,0,1,0,0,0,0,0,1,0,0,1,0,1,0,1,1,0,0,0,1,0,0,0,0,0,0,0,0,0,0,0,1,0,1,1,0,0,0,0,0,0,0,0,0,0,0,0,0,0,0,0,0,0,0,0,0,0,0,0,0,1,1,1,1,1,1,0]}\" data-images=\"null\" data-options=\"{&quot;width&quot;:600,&quot;zoom&quot;:true,&quot;description&quot;:null,&quot;height&quot;:null}\" id=\"viz-15d4f698-55f0-4682-8f02-9098b5a6e6d2\" data-initialized=\"false\" class=\"feed-item\"></div></div></div></div><script>window.lightning = window.lightning || {};\n",
       "window.lightning.host = \"http://public.lightning-viz.org/\" || 'http://127.0.0.1:3000/';\n",
       "window.lightning.vizCount = (window.lightning.vizCount + 1) || 1;\n",
       "window.lightning.requiredVizTypes = window.lightning.requiredVizTypes || [];\n",
       "if(window.lightning.requiredVizTypes.indexOf(\"line\") === -1) {\n",
       "    window.lightning.requiredVizTypes.push(\"line\");\n",
       "}\n",
       "window._require = window.require;\n",
       "window.require = undefined;\n",
       "window._define = window.define;\n",
       "window.define = undefined;</script><script src=\"http://public.lightning-viz.org/js/embed.js\"></script>"
      ],
      "text/plain": [
       "<lightning.types.plots.Line at 0x11946a790>"
      ]
     },
     "execution_count": 38,
     "metadata": {},
     "output_type": "execute_result"
    }
   ],
   "source": [
    "lgn.line(data['radius_mean'], group=data['diagnosis'])"
   ]
  },
  {
   "cell_type": "code",
   "execution_count": null,
   "metadata": {
    "collapsed": true
   },
   "outputs": [],
   "source": []
  }
 ],
 "metadata": {
  "anaconda-cloud": {},
  "kernelspec": {
   "display_name": "Python [default]",
   "language": "python",
   "name": "python2"
  },
  "language_info": {
   "codemirror_mode": {
    "name": "ipython",
    "version": 2
   },
   "file_extension": ".py",
   "mimetype": "text/x-python",
   "name": "python",
   "nbconvert_exporter": "python",
   "pygments_lexer": "ipython2",
   "version": "2.7.12"
  }
 },
 "nbformat": 4,
 "nbformat_minor": 1
}
