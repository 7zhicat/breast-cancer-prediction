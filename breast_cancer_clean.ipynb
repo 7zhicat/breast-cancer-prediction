{
 "cells": [
  {
   "cell_type": "code",
   "execution_count": 2,
   "metadata": {
    "collapsed": false
   },
   "outputs": [
    {
     "name": "stderr",
     "output_type": "stream",
     "text": [
      "//anaconda/lib/python2.7/site-packages/sklearn/cross_validation.py:44: DeprecationWarning: This module was deprecated in version 0.18 in favor of the model_selection module into which all the refactored classes and functions are moved. Also note that the interface of the new CV iterators are different from that of this module. This module will be removed in 0.20.\n",
      "  \"This module will be removed in 0.20.\", DeprecationWarning)\n",
      "//anaconda/lib/python2.7/site-packages/sklearn/grid_search.py:43: DeprecationWarning: This module was deprecated in version 0.18 in favor of the model_selection module into which all the refactored classes and functions are moved. This module will be removed in 0.20.\n",
      "  DeprecationWarning)\n"
     ]
    }
   ],
   "source": [
    "#First import all the libraries needed\n",
    "\n",
    "import numpy as np #for linear algebra\n",
    "import pandas as pd #for chopping, processing\n",
    "import csv #for opening csv files\n",
    "%matplotlib inline \n",
    "import matplotlib.pyplot as plt #for plotting the graphs\n",
    "from sklearn.linear_model import LogisticRegression #for logistic regression\n",
    "from sklearn.pipeline import Pipeline #to assemble steps for cross validation\n",
    "from sklearn.preprocessing import PolynomialFeatures #for all the polynomial features\n",
    "from sklearn import svm #for Support Vector Machines\n",
    "from sklearn.neighbors import NearestNeighbors #for nearest neighbor classifier\n",
    "from sklearn import tree\n",
    "from sklearn.tree import DecisionTreeClassifier #for decision tree classifier\n",
    "from sklearn.naive_bayes import GaussianNB  #for naive bayes classifier\n",
    "from scipy import stats #for statistical info\n",
    "from sklearn.model_selection import train_test_split # to split the data in train and test\n",
    "from sklearn.model_selection import KFold # for cross validation\n",
    "from sklearn.grid_search import GridSearchCV  # for tuning parameters\n",
    "from sklearn.neighbors import KNeighborsClassifier  #for k-neighbor classifier\n",
    "from sklearn import metrics  # for checking the accuracy \n",
    "from time import time"
   ]
  },
  {
   "cell_type": "code",
   "execution_count": 3,
   "metadata": {
    "collapsed": true
   },
   "outputs": [],
   "source": [
    "#load data\n",
    "data = pd.read_csv(\"data.csv\")"
   ]
  },
  {
   "cell_type": "code",
   "execution_count": 4,
   "metadata": {
    "collapsed": false
   },
   "outputs": [
    {
     "data": {
      "text/plain": [
       "(569, 32)"
      ]
     },
     "execution_count": 4,
     "metadata": {},
     "output_type": "execute_result"
    }
   ],
   "source": [
    "#to know the number of cases and the number of variables\n",
    "data.shape"
   ]
  },
  {
   "cell_type": "code",
   "execution_count": 5,
   "metadata": {
    "collapsed": false
   },
   "outputs": [
    {
     "name": "stdout",
     "output_type": "stream",
     "text": [
      "There are 569 cases in this dataset\n",
      "There are 31 features in this dataset\n",
      "There are 212 cases diagnosed as malignant tumor\n",
      "There are 357 cases diagnosed as benign tumor\n",
      "The percentage of malignant cases is: 37.2583%\n"
     ]
    }
   ],
   "source": [
    "#Description of the dataset\n",
    "\n",
    "#how many cases are included in the dataset\n",
    "length = len(data)\n",
    "#how many features are in the dataset\n",
    "features = data.shape[1]-1\n",
    "\n",
    "# Number of malignant cases\n",
    "malignant = len(data[data['diagnosis']=='M'])\n",
    "\n",
    "#Number of benign cases\n",
    "benign = len(data[data['diagnosis']=='B'])\n",
    "\n",
    "#Rate of malignant tumors over all cases\n",
    "rate = (float(malignant)/(length))*100\n",
    "\n",
    "print \"There are \"+ str(len(data))+\" cases in this dataset\"\n",
    "print \"There are {}\".format(features)+\" features in this dataset\"\n",
    "print \"There are {}\".format(malignant)+\" cases diagnosed as malignant tumor\"\n",
    "print \"There are {}\".format(benign)+\" cases diagnosed as benign tumor\"\n",
    "print \"The percentage of malignant cases is: {:.4f}%\".format(rate)"
   ]
  },
  {
   "cell_type": "code",
   "execution_count": 6,
   "metadata": {
    "collapsed": false
   },
   "outputs": [
    {
     "data": {
      "text/plain": [
       "array(['M', 'B'], dtype=object)"
      ]
     },
     "execution_count": 6,
     "metadata": {},
     "output_type": "execute_result"
    }
   ],
   "source": [
    "data.diagnosis.unique()"
   ]
  },
  {
   "cell_type": "code",
   "execution_count": 7,
   "metadata": {
    "collapsed": false
   },
   "outputs": [
    {
     "data": {
      "text/html": [
       "<div>\n",
       "<table border=\"1\" class=\"dataframe\">\n",
       "  <thead>\n",
       "    <tr style=\"text-align: right;\">\n",
       "      <th></th>\n",
       "      <th>id</th>\n",
       "      <th>diagnosis</th>\n",
       "      <th>radius_mean</th>\n",
       "      <th>texture_mean</th>\n",
       "      <th>perimeter_mean</th>\n",
       "      <th>area_mean</th>\n",
       "      <th>smoothness_mean</th>\n",
       "      <th>compactness_mean</th>\n",
       "      <th>concavity_mean</th>\n",
       "      <th>concave points_mean</th>\n",
       "      <th>...</th>\n",
       "      <th>radius_worst</th>\n",
       "      <th>texture_worst</th>\n",
       "      <th>perimeter_worst</th>\n",
       "      <th>area_worst</th>\n",
       "      <th>smoothness_worst</th>\n",
       "      <th>compactness_worst</th>\n",
       "      <th>concavity_worst</th>\n",
       "      <th>concave points_worst</th>\n",
       "      <th>symmetry_worst</th>\n",
       "      <th>fractal_dimension_worst</th>\n",
       "    </tr>\n",
       "  </thead>\n",
       "  <tbody>\n",
       "    <tr>\n",
       "      <th>0</th>\n",
       "      <td>842302</td>\n",
       "      <td>1</td>\n",
       "      <td>17.99</td>\n",
       "      <td>10.38</td>\n",
       "      <td>122.8</td>\n",
       "      <td>1001.0</td>\n",
       "      <td>0.11840</td>\n",
       "      <td>0.27760</td>\n",
       "      <td>0.3001</td>\n",
       "      <td>0.14710</td>\n",
       "      <td>...</td>\n",
       "      <td>25.38</td>\n",
       "      <td>17.33</td>\n",
       "      <td>184.6</td>\n",
       "      <td>2019.0</td>\n",
       "      <td>0.1622</td>\n",
       "      <td>0.6656</td>\n",
       "      <td>0.7119</td>\n",
       "      <td>0.2654</td>\n",
       "      <td>0.4601</td>\n",
       "      <td>0.11890</td>\n",
       "    </tr>\n",
       "    <tr>\n",
       "      <th>1</th>\n",
       "      <td>842517</td>\n",
       "      <td>1</td>\n",
       "      <td>20.57</td>\n",
       "      <td>17.77</td>\n",
       "      <td>132.9</td>\n",
       "      <td>1326.0</td>\n",
       "      <td>0.08474</td>\n",
       "      <td>0.07864</td>\n",
       "      <td>0.0869</td>\n",
       "      <td>0.07017</td>\n",
       "      <td>...</td>\n",
       "      <td>24.99</td>\n",
       "      <td>23.41</td>\n",
       "      <td>158.8</td>\n",
       "      <td>1956.0</td>\n",
       "      <td>0.1238</td>\n",
       "      <td>0.1866</td>\n",
       "      <td>0.2416</td>\n",
       "      <td>0.1860</td>\n",
       "      <td>0.2750</td>\n",
       "      <td>0.08902</td>\n",
       "    </tr>\n",
       "  </tbody>\n",
       "</table>\n",
       "<p>2 rows × 32 columns</p>\n",
       "</div>"
      ],
      "text/plain": [
       "       id  diagnosis  radius_mean  texture_mean  perimeter_mean  area_mean  \\\n",
       "0  842302          1        17.99         10.38           122.8     1001.0   \n",
       "1  842517          1        20.57         17.77           132.9     1326.0   \n",
       "\n",
       "   smoothness_mean  compactness_mean  concavity_mean  concave points_mean  \\\n",
       "0          0.11840           0.27760          0.3001              0.14710   \n",
       "1          0.08474           0.07864          0.0869              0.07017   \n",
       "\n",
       "            ...             radius_worst  texture_worst  perimeter_worst  \\\n",
       "0           ...                    25.38          17.33            184.6   \n",
       "1           ...                    24.99          23.41            158.8   \n",
       "\n",
       "   area_worst  smoothness_worst  compactness_worst  concavity_worst  \\\n",
       "0      2019.0            0.1622             0.6656           0.7119   \n",
       "1      1956.0            0.1238             0.1866           0.2416   \n",
       "\n",
       "   concave points_worst  symmetry_worst  fractal_dimension_worst  \n",
       "0                0.2654          0.4601                  0.11890  \n",
       "1                0.1860          0.2750                  0.08902  \n",
       "\n",
       "[2 rows x 32 columns]"
      ]
     },
     "execution_count": 7,
     "metadata": {},
     "output_type": "execute_result"
    }
   ],
   "source": [
    "#make diagnosis column numerical\n",
    "data['diagnosis'] = data['diagnosis'].map({'M':1,'B':0})\n",
    "data.head(2)"
   ]
  },
  {
   "cell_type": "code",
   "execution_count": 8,
   "metadata": {
    "collapsed": false
   },
   "outputs": [
    {
     "data": {
      "text/html": [
       "<div>\n",
       "<table border=\"1\" class=\"dataframe\">\n",
       "  <thead>\n",
       "    <tr style=\"text-align: right;\">\n",
       "      <th></th>\n",
       "      <th>diagnosis</th>\n",
       "      <th>radius_mean</th>\n",
       "      <th>texture_mean</th>\n",
       "      <th>perimeter_mean</th>\n",
       "      <th>area_mean</th>\n",
       "      <th>smoothness_mean</th>\n",
       "      <th>compactness_mean</th>\n",
       "      <th>concavity_mean</th>\n",
       "      <th>concave points_mean</th>\n",
       "      <th>symmetry_mean</th>\n",
       "      <th>...</th>\n",
       "      <th>radius_worst</th>\n",
       "      <th>texture_worst</th>\n",
       "      <th>perimeter_worst</th>\n",
       "      <th>area_worst</th>\n",
       "      <th>smoothness_worst</th>\n",
       "      <th>compactness_worst</th>\n",
       "      <th>concavity_worst</th>\n",
       "      <th>concave points_worst</th>\n",
       "      <th>symmetry_worst</th>\n",
       "      <th>fractal_dimension_worst</th>\n",
       "    </tr>\n",
       "  </thead>\n",
       "  <tbody>\n",
       "    <tr>\n",
       "      <th>0</th>\n",
       "      <td>1</td>\n",
       "      <td>17.99</td>\n",
       "      <td>10.38</td>\n",
       "      <td>122.8</td>\n",
       "      <td>1001.0</td>\n",
       "      <td>0.1184</td>\n",
       "      <td>0.2776</td>\n",
       "      <td>0.3001</td>\n",
       "      <td>0.1471</td>\n",
       "      <td>0.2419</td>\n",
       "      <td>...</td>\n",
       "      <td>25.38</td>\n",
       "      <td>17.33</td>\n",
       "      <td>184.6</td>\n",
       "      <td>2019.0</td>\n",
       "      <td>0.1622</td>\n",
       "      <td>0.6656</td>\n",
       "      <td>0.7119</td>\n",
       "      <td>0.2654</td>\n",
       "      <td>0.4601</td>\n",
       "      <td>0.1189</td>\n",
       "    </tr>\n",
       "  </tbody>\n",
       "</table>\n",
       "<p>1 rows × 31 columns</p>\n",
       "</div>"
      ],
      "text/plain": [
       "   diagnosis  radius_mean  texture_mean  perimeter_mean  area_mean  \\\n",
       "0          1        17.99         10.38           122.8     1001.0   \n",
       "\n",
       "   smoothness_mean  compactness_mean  concavity_mean  concave points_mean  \\\n",
       "0           0.1184            0.2776          0.3001               0.1471   \n",
       "\n",
       "   symmetry_mean           ...             radius_worst  texture_worst  \\\n",
       "0         0.2419           ...                    25.38          17.33   \n",
       "\n",
       "   perimeter_worst  area_worst  smoothness_worst  compactness_worst  \\\n",
       "0            184.6      2019.0            0.1622             0.6656   \n",
       "\n",
       "   concavity_worst  concave points_worst  symmetry_worst  \\\n",
       "0           0.7119                0.2654          0.4601   \n",
       "\n",
       "   fractal_dimension_worst  \n",
       "0                   0.1189  \n",
       "\n",
       "[1 rows x 31 columns]"
      ]
     },
     "execution_count": 8,
     "metadata": {},
     "output_type": "execute_result"
    }
   ],
   "source": [
    "#drop ID because we do not need the ID number as shown above\n",
    "\n",
    "data.drop('id',axis=1,inplace=True)\n",
    "#check that dropped\n",
    "data.head(1)"
   ]
  },
  {
   "cell_type": "code",
   "execution_count": 10,
   "metadata": {
    "collapsed": false
   },
   "outputs": [
    {
     "name": "stdout",
     "output_type": "stream",
     "text": [
      "['radius_mean', 'texture_mean', 'perimeter_mean', 'area_mean', 'smoothness_mean', 'compactness_mean', 'concavity_mean', 'concave points_mean', 'symmetry_mean', 'fractal_dimension_mean', 'radius_se', 'texture_se', 'perimeter_se', 'area_se', 'smoothness_se', 'compactness_se', 'concavity_se', 'concave points_se', 'symmetry_se', 'fractal_dimension_se', 'radius_worst', 'texture_worst', 'perimeter_worst', 'area_worst', 'smoothness_worst', 'compactness_worst', 'concavity_worst', 'concave points_worst', 'symmetry_worst']\n"
     ]
    }
   ],
   "source": [
    "# Extract feature columns where everything but the diagnosis is included.\n",
    "# I am separating all the features that are helpful in determining the diagnosis\n",
    "features = list(data.columns[1:30])\n",
    "print features"
   ]
  },
  {
   "cell_type": "code",
   "execution_count": 12,
   "metadata": {
    "collapsed": false
   },
   "outputs": [
    {
     "name": "stdout",
     "output_type": "stream",
     "text": [
      "Index([u'diagnosis'], dtype='object')\n"
     ]
    }
   ],
   "source": [
    "#Our target is predicting the diagnosis in benign or malignant, so we need\n",
    "#to extract this one as the dependent variable - the variable we will predict\n",
    "target = data.columns[0:1]\n",
    "print target"
   ]
  },
  {
   "cell_type": "code",
   "execution_count": 13,
   "metadata": {
    "collapsed": true
   },
   "outputs": [],
   "source": [
    "#Now we need to separate the data into feature data and target data\n",
    "X = data[features] #our features that we will use to predict Y\n",
    "Y = data[target] #our dependent variable, the one we are trying to predict from X"
   ]
  },
  {
   "cell_type": "code",
   "execution_count": 14,
   "metadata": {
    "collapsed": false
   },
   "outputs": [
    {
     "data": {
      "text/plain": [
       "(569, 29)"
      ]
     },
     "execution_count": 14,
     "metadata": {},
     "output_type": "execute_result"
    }
   ],
   "source": [
    "# X should have 29 variables and 569 cases\n",
    "X.shape"
   ]
  },
  {
   "cell_type": "code",
   "execution_count": 15,
   "metadata": {
    "collapsed": false
   },
   "outputs": [
    {
     "data": {
      "text/plain": [
       "(569, 1)"
      ]
     },
     "execution_count": 15,
     "metadata": {},
     "output_type": "execute_result"
    }
   ],
   "source": [
    "# Y should have 1 variable - just the diagnosis and 569 cases\n",
    "Y.shape"
   ]
  },
  {
   "cell_type": "code",
   "execution_count": 17,
   "metadata": {
    "collapsed": false
   },
   "outputs": [
    {
     "name": "stdout",
     "output_type": "stream",
     "text": [
      "\n",
      "Feature values:\n",
      "   radius_mean  texture_mean  perimeter_mean  area_mean  smoothness_mean  \\\n",
      "0        17.99         10.38           122.8     1001.0           0.1184   \n",
      "\n",
      "   compactness_mean  concavity_mean  concave points_mean  symmetry_mean  \\\n",
      "0            0.2776          0.3001               0.1471         0.2419   \n",
      "\n",
      "   fractal_dimension_mean       ...        fractal_dimension_se  radius_worst  \\\n",
      "0                 0.07871       ...                    0.006193         25.38   \n",
      "\n",
      "   texture_worst  perimeter_worst  area_worst  smoothness_worst  \\\n",
      "0          17.33            184.6      2019.0            0.1622   \n",
      "\n",
      "   compactness_worst  concavity_worst  concave points_worst  symmetry_worst  \n",
      "0             0.6656           0.7119                0.2654          0.4601  \n",
      "\n",
      "[1 rows x 29 columns]\n",
      "\n",
      "Target values:\n",
      "   diagnosis\n",
      "0          1\n"
     ]
    }
   ],
   "source": [
    "# Show the feature information by printing the first row\n",
    "# Show the traget information by also printing the first row\n",
    "print \"\\nFeature values:\"\n",
    "print X.head(1)\n",
    "print \"\\nTarget values:\"\n",
    "print Y.head(1)"
   ]
  },
  {
   "cell_type": "code",
   "execution_count": 28,
   "metadata": {
    "collapsed": false
   },
   "outputs": [
    {
     "name": "stdout",
     "output_type": "stream",
     "text": [
      "Top Correlations\n",
      "radius_mean          perimeter_mean          0.997855\n",
      "radius_worst         perimeter_worst         0.993708\n",
      "radius_mean          area_mean               0.987357\n",
      "perimeter_mean       area_mean               0.986507\n",
      "radius_worst         area_worst              0.984015\n",
      "perimeter_worst      area_worst              0.977578\n",
      "radius_se            perimeter_se            0.972794\n",
      "perimeter_mean       perimeter_worst         0.970387\n",
      "radius_mean          radius_worst            0.969539\n",
      "perimeter_mean       radius_worst            0.969476\n",
      "radius_mean          perimeter_worst         0.965137\n",
      "area_mean            radius_worst            0.962746\n",
      "                     area_worst              0.959213\n",
      "                     perimeter_worst         0.959120\n",
      "radius_se            area_se                 0.951830\n",
      "perimeter_mean       area_worst              0.941550\n",
      "radius_mean          area_worst              0.941082\n",
      "perimeter_se         area_se                 0.937655\n",
      "concavity_mean       concave points_mean     0.921391\n",
      "texture_mean         texture_worst           0.912045\n",
      "concave points_mean  concave points_worst    0.910155\n",
      "compactness_worst    concavity_worst         0.892261\n",
      "concavity_mean       concavity_worst         0.884103\n",
      "compactness_mean     concavity_mean          0.883121\n",
      "                     compactness_worst       0.865809\n",
      "concavity_mean       concave points_worst    0.861323\n",
      "concave points_mean  perimeter_worst         0.855923\n",
      "concavity_worst      concave points_worst    0.855434\n",
      "perimeter_mean       concave points_mean     0.850977\n",
      "compactness_mean     concave points_mean     0.831135\n",
      "concave points_mean  radius_worst            0.830318\n",
      "area_mean            concave points_mean     0.823269\n",
      "radius_mean          concave points_mean     0.822529\n",
      "perimeter_worst      concave points_worst    0.816322\n",
      "compactness_mean     concavity_worst         0.816275\n",
      "                     concave points_worst    0.815573\n",
      "area_se              area_worst              0.811408\n",
      "concave points_mean  area_worst              0.809630\n",
      "smoothness_mean      smoothness_worst        0.805324\n",
      "compactness_se       fractal_dimension_se    0.803269\n",
      "                     concavity_se            0.801268\n",
      "compactness_worst    concave points_worst    0.801080\n",
      "area_mean            area_se                 0.800086\n",
      "radius_worst         concave points_worst    0.787424\n",
      "concavity_se         concave points_se       0.771804\n",
      "perimeter_mean       concave points_worst    0.771241\n",
      "area_se              perimeter_worst         0.761213\n",
      "                     radius_worst            0.757373\n",
      "concavity_mean       compactness_worst       0.754968\n",
      "concave points_mean  concavity_worst         0.752399\n",
      "dtype: float64\n"
     ]
    }
   ],
   "source": [
    "#Getting the highest correlations available, so we can remove highly correlated variables\n",
    "def top_correlations(df, n='a'):\n",
    "    au_corr = df.corr().abs().unstack()\n",
    "    labels_to_drop = get_redundant_pairs(df)\n",
    "    au_corr = au_corr.drop(labels=labels_to_drop).sort_values(ascending=False)\n",
    "    return au_corr[0:n]\n",
    "\n",
    "print(\"Top Correlations\")\n",
    "print(get_top_abs_correlations(df, 50))"
   ]
  },
  {
   "cell_type": "code",
   "execution_count": 34,
   "metadata": {
    "collapsed": false,
    "scrolled": true
   },
   "outputs": [
    {
     "data": {
      "image/png": "[encoded data removed]",
      "text/plain": [
       "<matplotlib.figure.Figure at 0x1179718d0>"
      ]
     },
     "metadata": {},
     "output_type": "display_data"
    }
   ],
   "source": [
    "#Research shows that any variables that are highly correlated\n",
    "#should be removed from further analysis. But, PCA takes care of multicollinearity, so maybe \n",
    "#I identify them which ones there are and let PCA to do its job.  \n",
    "#Just in case let's see how two highly correlated variables look like\n",
    "#using prettyplots\n",
    "import matplotlib.pyplot as plt\n",
    "fig, ax = plt.subplots(1)\n",
    "for i in range(1):\n",
    "    x=df['perimeter_mean']\n",
    "    y=df['area_worst']\n",
    "    ax.scatter(x,y, label=str(i))\n",
    "#ax.legend()\n",
    "ax.set_title('Correlation of perimeter_mean and area_worst')\n",
    "fig.savefig('scatter.png')"
   ]
  },
  {
   "cell_type": "code",
   "execution_count": null,
   "metadata": {
    "collapsed": true
   },
   "outputs": [],
   "source": []
  }
 ],
 "metadata": {
  "anaconda-cloud": {},
  "kernelspec": {
   "display_name": "Python [conda root]",
   "language": "python",
   "name": "conda-root-py"
  },
  "language_info": {
   "codemirror_mode": {
    "name": "ipython",
    "version": 2
   },
   "file_extension": ".py",
   "mimetype": "text/x-python",
   "name": "python",
   "nbconvert_exporter": "python",
   "pygments_lexer": "ipython2",
   "version": "2.7.12"
  }
 },
 "nbformat": 4,
 "nbformat_minor": 1
}
